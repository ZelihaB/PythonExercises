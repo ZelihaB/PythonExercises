{
 "cells": [
  {
   "cell_type": "markdown",
   "id": "1fcc22f4",
   "metadata": {
    "id": "1fcc22f4"
   },
   "source": [
    "# Python Ilk Ders\n",
    "## Temel Kodlar\n",
    "\n",
    "* Listeler"
   ]
  },
  {
   "cell_type": "markdown",
   "id": "303859c8",
   "metadata": {
    "id": "303859c8"
   },
   "source": [
    "# Hi All\n",
    "\n",
    " * We are learning Python with Jupyter Notebook"
   ]
  },
  {
   "cell_type": "markdown",
   "id": "ff854672",
   "metadata": {
    "id": "ff854672"
   },
   "source": [
    "## SECTION : INTRO"
   ]
  },
  {
   "cell_type": "code",
   "execution_count": 368,
   "id": "1828d9fc",
   "metadata": {
    "id": "1828d9fc",
    "outputId": "12daa48d-93e1-4b86-9aeb-9fa14866b9da"
   },
   "outputs": [
    {
     "data": {
      "text/plain": [
       "33"
      ]
     },
     "execution_count": 368,
     "metadata": {},
     "output_type": "execute_result"
    }
   ],
   "source": [
    "# The first code\n",
    "\n",
    "30+3"
   ]
  },
  {
   "cell_type": "code",
   "execution_count": 3,
   "id": "1778ec3b",
   "metadata": {
    "id": "1778ec3b",
    "outputId": "b70cb83c-edee-4ab1-b9f9-cecb095b3b1a"
   },
   "outputs": [
    {
     "data": {
      "text/plain": [
       "float"
      ]
     },
     "execution_count": 3,
     "metadata": {},
     "output_type": "execute_result"
    }
   ],
   "source": [
    "type(5/3)"
   ]
  },
  {
   "cell_type": "code",
   "execution_count": 4,
   "id": "72b9df7e",
   "metadata": {
    "id": "72b9df7e"
   },
   "outputs": [],
   "source": [
    "f = 4"
   ]
  },
  {
   "cell_type": "code",
   "execution_count": 5,
   "id": "6d06ae95",
   "metadata": {
    "id": "6d06ae95",
    "outputId": "a185866b-e4c3-4311-827b-413c75092883"
   },
   "outputs": [
    {
     "data": {
      "text/plain": [
       "int"
      ]
     },
     "execution_count": 5,
     "metadata": {},
     "output_type": "execute_result"
    }
   ],
   "source": [
    "type(f)"
   ]
  },
  {
   "cell_type": "code",
   "execution_count": 7,
   "id": "de78969d",
   "metadata": {
    "id": "de78969d",
    "outputId": "7d4db87f-1d51-4200-8aa2-7a8da98f7517"
   },
   "outputs": [
    {
     "data": {
      "text/plain": [
       "1.6666666666666667"
      ]
     },
     "execution_count": 7,
     "metadata": {},
     "output_type": "execute_result"
    }
   ],
   "source": [
    "# Step by step\n",
    "\n",
    "5/3"
   ]
  },
  {
   "cell_type": "code",
   "execution_count": 8,
   "id": "721fb3c5",
   "metadata": {
    "id": "721fb3c5",
    "outputId": "395ef9cc-4071-4d14-960f-88fadfdd49f8"
   },
   "outputs": [
    {
     "data": {
      "text/plain": [
       "3.2"
      ]
     },
     "execution_count": 8,
     "metadata": {},
     "output_type": "execute_result"
    }
   ],
   "source": [
    "# Value\n",
    "\n",
    "3.2"
   ]
  },
  {
   "cell_type": "code",
   "execution_count": 9,
   "id": "899b2ee8",
   "metadata": {
    "id": "899b2ee8",
    "outputId": "383ba94c-0cf1-48b5-c96b-3ac7b8229391"
   },
   "outputs": [
    {
     "data": {
      "text/plain": [
       "str"
      ]
     },
     "execution_count": 9,
     "metadata": {},
     "output_type": "execute_result"
    }
   ],
   "source": [
    "# Invalid  Variable\n",
    "\n",
    "type(\"chrhrhshshthth\")"
   ]
  },
  {
   "cell_type": "code",
   "execution_count": 10,
   "id": "2c1fade2",
   "metadata": {
    "id": "2c1fade2",
    "outputId": "4f5b062b-053d-45fd-ddb0-a5bc8a8ac867"
   },
   "outputs": [
    {
     "data": {
      "text/plain": [
       "'a'"
      ]
     },
     "execution_count": 10,
     "metadata": {},
     "output_type": "execute_result"
    }
   ],
   "source": [
    "'a'"
   ]
  },
  {
   "cell_type": "code",
   "execution_count": 11,
   "id": "1bddbd77",
   "metadata": {
    "id": "1bddbd77",
    "outputId": "cd872afc-743d-4aca-cfd2-a25b3fb37387"
   },
   "outputs": [
    {
     "data": {
      "text/plain": [
       "3"
      ]
     },
     "execution_count": 11,
     "metadata": {},
     "output_type": "execute_result"
    }
   ],
   "source": [
    "# Variable\n",
    "\n",
    "a=3\n",
    "\n",
    "a"
   ]
  },
  {
   "cell_type": "code",
   "execution_count": 12,
   "id": "7c162dad",
   "metadata": {
    "id": "7c162dad",
    "outputId": "46c25ae9-17ae-4ab2-e125-bbd132270b9d"
   },
   "outputs": [
    {
     "data": {
      "text/plain": [
       "90"
      ]
     },
     "execution_count": 12,
     "metadata": {},
     "output_type": "execute_result"
    }
   ],
   "source": [
    "9*10"
   ]
  },
  {
   "cell_type": "code",
   "execution_count": 13,
   "id": "db91a115",
   "metadata": {
    "id": "db91a115"
   },
   "outputs": [],
   "source": [
    "# BASE..."
   ]
  },
  {
   "cell_type": "code",
   "execution_count": 14,
   "id": "b401ee6b",
   "metadata": {
    "id": "b401ee6b"
   },
   "outputs": [],
   "source": [
    "a = 9\n",
    "\n",
    "b = 10"
   ]
  },
  {
   "cell_type": "code",
   "execution_count": 15,
   "id": "6a9529d1",
   "metadata": {
    "id": "6a9529d1",
    "outputId": "e2e9ca6a-40c7-4804-f74e-55e1199d488c"
   },
   "outputs": [
    {
     "data": {
      "text/plain": [
       "90"
      ]
     },
     "execution_count": 15,
     "metadata": {},
     "output_type": "execute_result"
    }
   ],
   "source": [
    "a * b"
   ]
  },
  {
   "cell_type": "code",
   "execution_count": 16,
   "id": "12a77d22",
   "metadata": {
    "id": "12a77d22",
    "outputId": "fa000856-ba3d-4902-b596-3178c1e26841"
   },
   "outputs": [
    {
     "data": {
      "text/plain": [
       "19"
      ]
     },
     "execution_count": 16,
     "metadata": {},
     "output_type": "execute_result"
    }
   ],
   "source": [
    "a + b"
   ]
  },
  {
   "cell_type": "code",
   "execution_count": 17,
   "id": "5f277cd9",
   "metadata": {
    "id": "5f277cd9",
    "outputId": "d6b97373-b8e1-4cbf-dd5e-97c6e6097b7f"
   },
   "outputs": [
    {
     "data": {
      "text/plain": [
       "'Python'"
      ]
     },
     "execution_count": 17,
     "metadata": {},
     "output_type": "execute_result"
    }
   ],
   "source": [
    "\"Python\""
   ]
  },
  {
   "cell_type": "code",
   "execution_count": 18,
   "id": "4779b203",
   "metadata": {
    "id": "4779b203"
   },
   "outputs": [],
   "source": [
    "a= 3\n",
    "b = \"DA Bootcamp\""
   ]
  },
  {
   "cell_type": "code",
   "execution_count": 20,
   "id": "07bca502",
   "metadata": {
    "id": "07bca502",
    "outputId": "92518069-d3d5-45e2-aae3-e287913517f3"
   },
   "outputs": [
    {
     "data": {
      "text/plain": [
       "False"
      ]
     },
     "execution_count": 20,
     "metadata": {},
     "output_type": "execute_result"
    }
   ],
   "source": [
    "b.islower() #nokta koyup tab yapiyorum"
   ]
  },
  {
   "cell_type": "code",
   "execution_count": 21,
   "id": "d4bb993f",
   "metadata": {
    "id": "d4bb993f",
    "outputId": "9e0de639-5cab-4419-f594-d1be62fbb235"
   },
   "outputs": [
    {
     "data": {
      "text/plain": [
       "True"
      ]
     },
     "execution_count": 21,
     "metadata": {},
     "output_type": "execute_result"
    }
   ],
   "source": [
    "b.lower().islower()"
   ]
  },
  {
   "cell_type": "code",
   "execution_count": 22,
   "id": "0f8158ff",
   "metadata": {
    "id": "0f8158ff",
    "outputId": "4e929c96-cfad-4f5a-9a0a-f44f94935e51"
   },
   "outputs": [
    {
     "data": {
      "text/plain": [
       "str"
      ]
     },
     "execution_count": 22,
     "metadata": {},
     "output_type": "execute_result"
    }
   ],
   "source": [
    "type(\"Python\")"
   ]
  },
  {
   "cell_type": "code",
   "execution_count": 23,
   "id": "a80614e8",
   "metadata": {
    "id": "a80614e8",
    "outputId": "8085ad81-5f0d-469f-83b2-428998188fe1"
   },
   "outputs": [
    {
     "data": {
      "text/plain": [
       "'PYTHON'"
      ]
     },
     "execution_count": 23,
     "metadata": {},
     "output_type": "execute_result"
    }
   ],
   "source": [
    "\"Python\".upper()"
   ]
  },
  {
   "cell_type": "code",
   "execution_count": 24,
   "id": "51fadbd7",
   "metadata": {
    "id": "51fadbd7",
    "outputId": "42914763-cd41-4b80-ac88-1948e7acde4e"
   },
   "outputs": [
    {
     "data": {
      "text/plain": [
       "6"
      ]
     },
     "execution_count": 24,
     "metadata": {},
     "output_type": "execute_result"
    }
   ],
   "source": [
    "len(\"Python\")"
   ]
  },
  {
   "cell_type": "code",
   "execution_count": 28,
   "id": "3e8bc496",
   "metadata": {
    "id": "3e8bc496"
   },
   "outputs": [],
   "source": [
    "# len() , print(), islower()"
   ]
  },
  {
   "cell_type": "code",
   "execution_count": 31,
   "id": "4af4efea",
   "metadata": {},
   "outputs": [
    {
     "data": {
      "text/plain": [
       "6"
      ]
     },
     "execution_count": 31,
     "metadata": {},
     "output_type": "execute_result"
    }
   ],
   "source": [
    "len(\"Zeliha\")"
   ]
  },
  {
   "cell_type": "code",
   "execution_count": 33,
   "id": "e65c72d7",
   "metadata": {},
   "outputs": [
    {
     "name": "stdout",
     "output_type": "stream",
     "text": [
      "My favourite color code is: 3\n"
     ]
    }
   ],
   "source": [
    "print(\"My favourite color code is:\",a)"
   ]
  },
  {
   "cell_type": "code",
   "execution_count": 34,
   "id": "54629551",
   "metadata": {
    "id": "54629551",
    "outputId": "1b1b0675-1152-4cec-ce39-bfd0119860d3"
   },
   "outputs": [
    {
     "name": "stdout",
     "output_type": "stream",
     "text": [
      "Python\n"
     ]
    }
   ],
   "source": [
    "# Fonksiyon\n",
    "print(\"Python\")"
   ]
  },
  {
   "cell_type": "code",
   "execution_count": 35,
   "id": "fa0f0bfe",
   "metadata": {
    "id": "fa0f0bfe",
    "outputId": "1eed23e7-8bc8-42ac-8f5e-91812b31fd2b"
   },
   "outputs": [
    {
     "name": "stdout",
     "output_type": "stream",
     "text": [
      "\n"
     ]
    }
   ],
   "source": [
    "print()"
   ]
  },
  {
   "cell_type": "code",
   "execution_count": 36,
   "id": "e6dc1db0",
   "metadata": {
    "id": "e6dc1db0",
    "outputId": "295b7d57-9376-41ed-8cfc-65834e0e47bf"
   },
   "outputs": [
    {
     "name": "stdout",
     "output_type": "stream",
     "text": [
      "En sevdigim sayi :  3\n"
     ]
    }
   ],
   "source": [
    "print(\"En sevdigim sayi : \",3)"
   ]
  },
  {
   "cell_type": "code",
   "execution_count": 37,
   "id": "7f69fada",
   "metadata": {
    "id": "7f69fada",
    "outputId": "c4d45204-6420-48f1-fe13-e1085195eefa"
   },
   "outputs": [
    {
     "name": "stdout",
     "output_type": "stream",
     "text": [
      "hi\n"
     ]
    },
    {
     "data": {
      "text/plain": [
       "'hi'"
      ]
     },
     "execution_count": 37,
     "metadata": {},
     "output_type": "execute_result"
    }
   ],
   "source": [
    "input()"
   ]
  },
  {
   "cell_type": "code",
   "execution_count": 38,
   "id": "5e0f07c0",
   "metadata": {
    "id": "5e0f07c0",
    "outputId": "289f834d-4b09-4881-95ef-5e6358e63ce7"
   },
   "outputs": [
    {
     "name": "stdout",
     "output_type": "stream",
     "text": [
      "my name is zeliha\n"
     ]
    }
   ],
   "source": [
    "a = input()\n"
   ]
  },
  {
   "cell_type": "code",
   "execution_count": 39,
   "id": "6ed40e5b",
   "metadata": {
    "id": "6ed40e5b",
    "outputId": "3c023036-dcc2-4bdd-e0d8-0c1068b1f11b"
   },
   "outputs": [
    {
     "data": {
      "text/plain": [
       "'my name is zeliha'"
      ]
     },
     "execution_count": 39,
     "metadata": {},
     "output_type": "execute_result"
    }
   ],
   "source": [
    "a"
   ]
  },
  {
   "cell_type": "code",
   "execution_count": 40,
   "id": "b9dda916",
   "metadata": {
    "id": "b9dda916",
    "outputId": "ae03372a-5e2c-4bbc-d08f-5979fe2c4317"
   },
   "outputs": [
    {
     "ename": "ValueError",
     "evalue": "invalid literal for int() with base 10: 'my name is zeliha'",
     "output_type": "error",
     "traceback": [
      "\u001b[0;31m---------------------------------------------------------------------------\u001b[0m",
      "\u001b[0;31mValueError\u001b[0m                                Traceback (most recent call last)",
      "Cell \u001b[0;32mIn[40], line 1\u001b[0m\n\u001b[0;32m----> 1\u001b[0m \u001b[38;5;28mint\u001b[39m(a)\n",
      "\u001b[0;31mValueError\u001b[0m: invalid literal for int() with base 10: 'my name is zeliha'"
     ]
    }
   ],
   "source": [
    "int(a)"
   ]
  },
  {
   "cell_type": "code",
   "execution_count": 41,
   "id": "fd783d45",
   "metadata": {
    "id": "fd783d45",
    "outputId": "58302a42-108a-4e29-c39c-b07b65cedcf1"
   },
   "outputs": [
    {
     "name": "stdout",
     "output_type": "stream",
     "text": [
      "sen\n",
      "Aldigim bilgi :  sen\n"
     ]
    }
   ],
   "source": [
    "# Read Data\n",
    "\n",
    "a = input()\n",
    "\n",
    "print(\"Aldigim bilgi : \", a)"
   ]
  },
  {
   "cell_type": "code",
   "execution_count": 50,
   "id": "bc69033b",
   "metadata": {
    "id": "bc69033b",
    "outputId": "19aaa63d-efb1-4db7-cadf-d48523906c93"
   },
   "outputs": [
    {
     "name": "stdout",
     "output_type": "stream",
     "text": [
      "degisken giriniz:\n",
      "2\n",
      "degisken giriniz:\n",
      "2\n"
     ]
    },
    {
     "data": {
      "text/plain": [
       "'22'"
      ]
     },
     "execution_count": 50,
     "metadata": {},
     "output_type": "execute_result"
    }
   ],
   "source": [
    "print(\"degisken giriniz:\")\n",
    "a = input()\n",
    "print(\"degisken giriniz:\")\n",
    "b = input()\n",
    "\n",
    "a+b"
   ]
  },
  {
   "cell_type": "code",
   "execution_count": 53,
   "id": "7b130952",
   "metadata": {},
   "outputs": [
    {
     "name": "stdout",
     "output_type": "stream",
     "text": [
      "ali\n"
     ]
    }
   ],
   "source": [
    "x = print (\"ali\")"
   ]
  },
  {
   "cell_type": "code",
   "execution_count": 54,
   "id": "562ef00d",
   "metadata": {},
   "outputs": [
    {
     "data": {
      "text/plain": [
       "NoneType"
      ]
     },
     "execution_count": 54,
     "metadata": {},
     "output_type": "execute_result"
    }
   ],
   "source": [
    "type(x)"
   ]
  },
  {
   "cell_type": "code",
   "execution_count": 55,
   "id": "5fcce97d",
   "metadata": {
    "id": "5fcce97d"
   },
   "outputs": [],
   "source": [
    "# int() , input()"
   ]
  },
  {
   "cell_type": "code",
   "execution_count": 56,
   "id": "686ef714",
   "metadata": {
    "id": "686ef714",
    "outputId": "3cf87363-dd15-495f-8e6d-5762783943c1"
   },
   "outputs": [
    {
     "name": "stdout",
     "output_type": "stream",
     "text": [
      "3\n",
      "<class 'str'>\n",
      "3\n",
      "<class 'str'>\n"
     ]
    },
    {
     "data": {
      "text/plain": [
       "6"
      ]
     },
     "execution_count": 56,
     "metadata": {},
     "output_type": "execute_result"
    }
   ],
   "source": [
    "print(\"degisken giriniz:\")\n",
    "a =input()\n",
    "print(type(a))\n",
    "\n",
    "print(\"degisken giriniz:\")\n",
    "b =input()\n",
    "print(type(b))\n",
    "\n",
    "int(a)+int(b)  # convert , tip donustume, parse ..."
   ]
  },
  {
   "cell_type": "code",
   "execution_count": 57,
   "id": "b9e2db4c",
   "metadata": {
    "id": "b9e2db4c",
    "outputId": "e1f2cc73-a9f2-440e-edc5-0037260dcaff"
   },
   "outputs": [
    {
     "name": "stdout",
     "output_type": "stream",
     "text": [
      "1234\n"
     ]
    },
    {
     "data": {
      "text/plain": [
       "str"
      ]
     },
     "execution_count": 57,
     "metadata": {},
     "output_type": "execute_result"
    }
   ],
   "source": [
    "sifre = input()\n",
    "type(sifre)"
   ]
  },
  {
   "cell_type": "code",
   "execution_count": 58,
   "id": "ce9b4fdd",
   "metadata": {
    "id": "ce9b4fdd",
    "outputId": "d143fb55-9f1e-4135-bee4-0001c4baa61d"
   },
   "outputs": [
    {
     "name": "stdout",
     "output_type": "stream",
     "text": [
      "2\n",
      "2\n",
      "4\n"
     ]
    }
   ],
   "source": [
    "### Read Data for Calculation\n",
    "\n",
    "a = int(input())\n",
    "b = int(input())\n",
    "\n",
    "\n",
    "print(a*b)"
   ]
  },
  {
   "cell_type": "code",
   "execution_count": 59,
   "id": "60396b49",
   "metadata": {
    "id": "60396b49"
   },
   "outputs": [
    {
     "name": "stdout",
     "output_type": "stream",
     "text": [
      "4\n",
      "4\n",
      "8\n"
     ]
    }
   ],
   "source": [
    "### Read Data for Calculation\n",
    "\n",
    "a = input()\n",
    "b = input()\n",
    "\n",
    "a=int(a)\n",
    "b=int(b)\n",
    "\n",
    "print(a+b)"
   ]
  },
  {
   "cell_type": "code",
   "execution_count": 60,
   "id": "005e6ed8",
   "metadata": {
    "id": "005e6ed8",
    "outputId": "6135417f-ae88-424f-9f44-3f6c4ca2346a"
   },
   "outputs": [
    {
     "data": {
      "text/plain": [
       "str"
      ]
     },
     "execution_count": 60,
     "metadata": {},
     "output_type": "execute_result"
    }
   ],
   "source": [
    "# Methods\n",
    "\n",
    "type(\"merhaba\")"
   ]
  },
  {
   "cell_type": "code",
   "execution_count": 61,
   "id": "69584e92",
   "metadata": {
    "id": "69584e92",
    "outputId": "0c525306-b4b1-4163-8bcb-96732da34932"
   },
   "outputs": [
    {
     "data": {
      "text/plain": [
       "int"
      ]
     },
     "execution_count": 61,
     "metadata": {},
     "output_type": "execute_result"
    }
   ],
   "source": [
    "type(3)"
   ]
  },
  {
   "cell_type": "code",
   "execution_count": 62,
   "id": "5a4535fc",
   "metadata": {
    "id": "5a4535fc",
    "outputId": "9122cc78-2380-42b5-d96d-d7e7c5f5f548"
   },
   "outputs": [
    {
     "data": {
      "text/plain": [
       "float"
      ]
     },
     "execution_count": 62,
     "metadata": {},
     "output_type": "execute_result"
    }
   ],
   "source": [
    "type(3.4)"
   ]
  },
  {
   "cell_type": "code",
   "execution_count": 63,
   "id": "9335e40d",
   "metadata": {
    "id": "9335e40d",
    "outputId": "406d69eb-0899-4fe5-c6fe-d3b8da1454ab"
   },
   "outputs": [
    {
     "data": {
      "text/plain": [
       "int"
      ]
     },
     "execution_count": 63,
     "metadata": {},
     "output_type": "execute_result"
    }
   ],
   "source": [
    "type(a)"
   ]
  },
  {
   "cell_type": "code",
   "execution_count": 64,
   "id": "fe3b0d89",
   "metadata": {
    "id": "fe3b0d89",
    "outputId": "d13fa5ba-0900-4091-e427-94487002d9c2"
   },
   "outputs": [
    {
     "data": {
      "text/plain": [
       "int"
      ]
     },
     "execution_count": 64,
     "metadata": {},
     "output_type": "execute_result"
    }
   ],
   "source": [
    "type(b)"
   ]
  },
  {
   "cell_type": "code",
   "execution_count": 65,
   "id": "5fc6923b",
   "metadata": {
    "id": "5fc6923b",
    "outputId": "64084095-ad76-4da9-9125-125403077efd"
   },
   "outputs": [
    {
     "data": {
      "text/plain": [
       "2"
      ]
     },
     "execution_count": 65,
     "metadata": {},
     "output_type": "execute_result"
    }
   ],
   "source": [
    "True + True"
   ]
  },
  {
   "cell_type": "code",
   "execution_count": 66,
   "id": "d4b50d65",
   "metadata": {
    "id": "d4b50d65"
   },
   "outputs": [],
   "source": [
    "# a = [3,4,5,6,7,-2,5] => [False,False,False,False,False,True,False]"
   ]
  },
  {
   "cell_type": "code",
   "execution_count": 67,
   "id": "602041c6",
   "metadata": {
    "id": "602041c6",
    "outputId": "fadc976c-ac4c-4aeb-e07a-fbf5eb0bb70a"
   },
   "outputs": [
    {
     "data": {
      "text/plain": [
       "1"
      ]
     },
     "execution_count": 67,
     "metadata": {},
     "output_type": "execute_result"
    }
   ],
   "source": [
    "False+False+False+False+False+True+False"
   ]
  },
  {
   "cell_type": "code",
   "execution_count": 68,
   "id": "daa2194a",
   "metadata": {
    "id": "daa2194a"
   },
   "outputs": [],
   "source": [
    "#DATA >>> Bos hucren var mi...>>> Boslara True, Dolulara False"
   ]
  },
  {
   "cell_type": "code",
   "execution_count": 69,
   "id": "f7a7b049",
   "metadata": {
    "id": "f7a7b049"
   },
   "outputs": [
    {
     "ename": "NameError",
     "evalue": "name 'df' is not defined",
     "output_type": "error",
     "traceback": [
      "\u001b[0;31m---------------------------------------------------------------------------\u001b[0m",
      "\u001b[0;31mNameError\u001b[0m                                 Traceback (most recent call last)",
      "Cell \u001b[0;32mIn[69], line 1\u001b[0m\n\u001b[0;32m----> 1\u001b[0m df\u001b[38;5;241m.\u001b[39misnull()\u001b[38;5;241m.\u001b[39msum()\n",
      "\u001b[0;31mNameError\u001b[0m: name 'df' is not defined"
     ]
    }
   ],
   "source": [
    "df.isnull().sum()"
   ]
  },
  {
   "cell_type": "code",
   "execution_count": 70,
   "id": "82c9ee75",
   "metadata": {
    "id": "82c9ee75",
    "outputId": "2f47d415-4d64-4b2e-cbf9-edf5d72d8997"
   },
   "outputs": [
    {
     "data": {
      "text/plain": [
       "2"
      ]
     },
     "execution_count": 70,
     "metadata": {},
     "output_type": "execute_result"
    }
   ],
   "source": [
    "True+True"
   ]
  },
  {
   "cell_type": "code",
   "execution_count": 71,
   "id": "813da16e",
   "metadata": {
    "id": "813da16e",
    "outputId": "11fd02be-0e68-4b4b-ada3-10c41bba9021"
   },
   "outputs": [
    {
     "data": {
      "text/plain": [
       "1"
      ]
     },
     "execution_count": 71,
     "metadata": {},
     "output_type": "execute_result"
    }
   ],
   "source": [
    "True+False"
   ]
  },
  {
   "cell_type": "code",
   "execution_count": 72,
   "id": "d8384397",
   "metadata": {
    "id": "d8384397",
    "outputId": "583793e3-1f7a-454f-e911-1e3761b82812"
   },
   "outputs": [
    {
     "data": {
      "text/plain": [
       "0"
      ]
     },
     "execution_count": 72,
     "metadata": {},
     "output_type": "execute_result"
    }
   ],
   "source": [
    "False+False"
   ]
  },
  {
   "cell_type": "code",
   "execution_count": 73,
   "id": "7ce9f170",
   "metadata": {
    "id": "7ce9f170",
    "outputId": "557d03fe-0ad1-4e5e-bd31-5caea3b2883c"
   },
   "outputs": [
    {
     "data": {
      "text/plain": [
       "0"
      ]
     },
     "execution_count": 73,
     "metadata": {},
     "output_type": "execute_result"
    }
   ],
   "source": [
    "True-True"
   ]
  },
  {
   "cell_type": "code",
   "execution_count": 74,
   "id": "3bb7fc1b",
   "metadata": {
    "id": "3bb7fc1b"
   },
   "outputs": [
    {
     "ename": "NameError",
     "evalue": "name 'isnull' is not defined",
     "output_type": "error",
     "traceback": [
      "\u001b[0;31m---------------------------------------------------------------------------\u001b[0m",
      "\u001b[0;31mNameError\u001b[0m                                 Traceback (most recent call last)",
      "Cell \u001b[0;32mIn[74], line 1\u001b[0m\n\u001b[0;32m----> 1\u001b[0m isnull()\n",
      "\u001b[0;31mNameError\u001b[0m: name 'isnull' is not defined"
     ]
    }
   ],
   "source": [
    "isnull()"
   ]
  },
  {
   "cell_type": "code",
   "execution_count": 75,
   "id": "4862df5a",
   "metadata": {
    "id": "4862df5a",
    "outputId": "a0f9729e-ce2d-4e3e-d588-ac49deb508e5"
   },
   "outputs": [
    {
     "data": {
      "text/plain": [
       "float"
      ]
     },
     "execution_count": 75,
     "metadata": {},
     "output_type": "execute_result"
    }
   ],
   "source": [
    "c= 3.4\n",
    "type(c)"
   ]
  },
  {
   "cell_type": "code",
   "execution_count": 79,
   "id": "c9cfb202",
   "metadata": {
    "id": "c9cfb202"
   },
   "outputs": [],
   "source": [
    "info = \"Assignments Operations\""
   ]
  },
  {
   "cell_type": "code",
   "execution_count": 80,
   "id": "269bb0f9",
   "metadata": {},
   "outputs": [
    {
     "data": {
      "text/plain": [
       "'assignments operations'"
      ]
     },
     "execution_count": 80,
     "metadata": {},
     "output_type": "execute_result"
    }
   ],
   "source": [
    "info.lower()"
   ]
  },
  {
   "cell_type": "code",
   "execution_count": 81,
   "id": "d69caf6a",
   "metadata": {
    "id": "d69caf6a",
    "outputId": "92566592-dbc8-4cb0-d247-bd1388c60a34"
   },
   "outputs": [
    {
     "data": {
      "text/plain": [
       "str"
      ]
     },
     "execution_count": 81,
     "metadata": {},
     "output_type": "execute_result"
    }
   ],
   "source": [
    "type(info)"
   ]
  },
  {
   "cell_type": "code",
   "execution_count": 82,
   "id": "4360a3c0",
   "metadata": {
    "id": "4360a3c0",
    "outputId": "b5c334af-8688-4e5c-c3d7-e8b5ebcf9823"
   },
   "outputs": [
    {
     "data": {
      "text/plain": [
       "'Assignments operations'"
      ]
     },
     "execution_count": 82,
     "metadata": {},
     "output_type": "execute_result"
    }
   ],
   "source": [
    "info.capitalize()"
   ]
  },
  {
   "cell_type": "code",
   "execution_count": 83,
   "id": "505803be",
   "metadata": {
    "id": "505803be",
    "outputId": "c6f49a5b-c8f1-4cd5-f35d-5c0918c88fb8"
   },
   "outputs": [
    {
     "data": {
      "text/plain": [
       "'Assignments Operations'"
      ]
     },
     "execution_count": 83,
     "metadata": {},
     "output_type": "execute_result"
    }
   ],
   "source": [
    "info.title()"
   ]
  },
  {
   "cell_type": "code",
   "execution_count": 84,
   "id": "694b7909",
   "metadata": {
    "id": "694b7909",
    "outputId": "2c4805d4-3be4-470c-d767-14d38d9c84ef"
   },
   "outputs": [
    {
     "data": {
      "text/plain": [
       "3"
      ]
     },
     "execution_count": 84,
     "metadata": {},
     "output_type": "execute_result"
    }
   ],
   "source": [
    "info.find(\"i\") # soft dursun..."
   ]
  },
  {
   "cell_type": "code",
   "execution_count": 85,
   "id": "07bcefcd",
   "metadata": {
    "id": "07bcefcd",
    "outputId": "e9fab632-00fc-4fc6-8a7a-62ff19d9ba74"
   },
   "outputs": [
    {
     "data": {
      "text/plain": [
       "['Assi', 'nments Operations']"
      ]
     },
     "execution_count": 85,
     "metadata": {},
     "output_type": "execute_result"
    }
   ],
   "source": [
    "info.split(\"g\")"
   ]
  },
  {
   "cell_type": "code",
   "execution_count": 86,
   "id": "cf1bb641",
   "metadata": {
    "id": "cf1bb641",
    "outputId": "3fd8e19b-6c1e-48dc-bbd3-dd8e7e0235b5"
   },
   "outputs": [
    {
     "data": {
      "text/plain": [
       "0"
      ]
     },
     "execution_count": 86,
     "metadata": {},
     "output_type": "execute_result"
    }
   ],
   "source": [
    "info.count(\"w\")"
   ]
  },
  {
   "cell_type": "code",
   "execution_count": 87,
   "id": "5de409df",
   "metadata": {
    "id": "5de409df",
    "outputId": "617b0491-781d-408c-e0cd-517dbe35db0e"
   },
   "outputs": [
    {
     "data": {
      "text/plain": [
       "True"
      ]
     },
     "execution_count": 87,
     "metadata": {},
     "output_type": "execute_result"
    }
   ],
   "source": [
    "info.endswith(\"s\")"
   ]
  },
  {
   "cell_type": "code",
   "execution_count": 88,
   "id": "6899857c",
   "metadata": {
    "id": "6899857c",
    "outputId": "da82169b-9173-4b42-8bb6-ff6765889434"
   },
   "outputs": [
    {
     "data": {
      "text/plain": [
       "4"
      ]
     },
     "execution_count": 88,
     "metadata": {},
     "output_type": "execute_result"
    }
   ],
   "source": [
    "info.count(\"s\")"
   ]
  },
  {
   "cell_type": "code",
   "execution_count": 89,
   "id": "21ffd683",
   "metadata": {
    "id": "21ffd683",
    "outputId": "d848079b-3b7f-43dc-c8e0-c2895a98c03d"
   },
   "outputs": [
    {
     "data": {
      "text/plain": [
       "'assignments operations'"
      ]
     },
     "execution_count": 89,
     "metadata": {},
     "output_type": "execute_result"
    }
   ],
   "source": [
    "info.lower()"
   ]
  },
  {
   "cell_type": "code",
   "execution_count": 90,
   "id": "5b45c3ca",
   "metadata": {
    "id": "5b45c3ca"
   },
   "outputs": [],
   "source": [
    "info = info.upper()"
   ]
  },
  {
   "cell_type": "code",
   "execution_count": 91,
   "id": "a4b15d2e",
   "metadata": {
    "id": "a4b15d2e",
    "outputId": "c44d83a1-f43b-40b8-d906-673264eb3f14"
   },
   "outputs": [
    {
     "data": {
      "text/plain": [
       "'ASSIGNMENTS OPERATIONS'"
      ]
     },
     "execution_count": 91,
     "metadata": {},
     "output_type": "execute_result"
    }
   ],
   "source": [
    "info"
   ]
  },
  {
   "cell_type": "code",
   "execution_count": 92,
   "id": "925d1d42",
   "metadata": {
    "id": "925d1d42",
    "outputId": "d8e2eb96-dae1-4f84-9f03-6b9eff84fca5"
   },
   "outputs": [
    {
     "data": {
      "text/plain": [
       "'assignments operations'"
      ]
     },
     "execution_count": 92,
     "metadata": {},
     "output_type": "execute_result"
    }
   ],
   "source": [
    "info.lower()"
   ]
  },
  {
   "cell_type": "code",
   "execution_count": 93,
   "id": "1b1d1da7",
   "metadata": {
    "id": "1b1d1da7",
    "outputId": "b9908a4c-820c-4f87-8f96-69ef1a7e8197"
   },
   "outputs": [
    {
     "data": {
      "text/plain": [
       "'assignments|operations'"
      ]
     },
     "execution_count": 93,
     "metadata": {},
     "output_type": "execute_result"
    }
   ],
   "source": [
    "info.lower().replace(\" \",\"|\")"
   ]
  },
  {
   "cell_type": "code",
   "execution_count": 94,
   "id": "155c98e3",
   "metadata": {
    "id": "155c98e3"
   },
   "outputs": [],
   "source": [
    "info.lower().replace(\" \",\"|\").split(\"|\").append(3)"
   ]
  },
  {
   "cell_type": "code",
   "execution_count": 98,
   "id": "4ca59ad4",
   "metadata": {
    "id": "4ca59ad4"
   },
   "outputs": [],
   "source": [
    "listem = info.lower().replace(\" \",\"|\").split(\"|\")"
   ]
  },
  {
   "cell_type": "code",
   "execution_count": 99,
   "id": "4f71e5ef",
   "metadata": {},
   "outputs": [
    {
     "data": {
      "text/plain": [
       "['assignments', 'operations']"
      ]
     },
     "execution_count": 99,
     "metadata": {},
     "output_type": "execute_result"
    }
   ],
   "source": [
    "listem"
   ]
  },
  {
   "cell_type": "code",
   "execution_count": 102,
   "id": "bf812d97",
   "metadata": {
    "id": "bf812d97"
   },
   "outputs": [],
   "source": [
    "listem.append(3)"
   ]
  },
  {
   "cell_type": "code",
   "execution_count": 104,
   "id": "17d550e9",
   "metadata": {},
   "outputs": [
    {
     "data": {
      "text/plain": [
       "['assignments', 'operations', 3, 3]"
      ]
     },
     "execution_count": 104,
     "metadata": {},
     "output_type": "execute_result"
    }
   ],
   "source": [
    "listem"
   ]
  },
  {
   "cell_type": "code",
   "execution_count": 109,
   "id": "50bf9fd6",
   "metadata": {},
   "outputs": [],
   "source": [
    "listem.insert(3,1)"
   ]
  },
  {
   "cell_type": "code",
   "execution_count": 116,
   "id": "9b69a5a6",
   "metadata": {},
   "outputs": [
    {
     "data": {
      "text/plain": [
       "<function list.insert(index, object, /)>"
      ]
     },
     "execution_count": 116,
     "metadata": {},
     "output_type": "execute_result"
    }
   ],
   "source": [
    "listem.insert"
   ]
  },
  {
   "cell_type": "code",
   "execution_count": 107,
   "id": "51d47333",
   "metadata": {},
   "outputs": [
    {
     "data": {
      "text/plain": [
       "['assignments', 'operations', 3, 1, 1, 3]"
      ]
     },
     "execution_count": 107,
     "metadata": {},
     "output_type": "execute_result"
    }
   ],
   "source": [
    "listem"
   ]
  },
  {
   "cell_type": "code",
   "execution_count": 101,
   "id": "b487ee7c",
   "metadata": {
    "id": "b487ee7c"
   },
   "outputs": [],
   "source": [
    "#listem.insert() tekrar... :)"
   ]
  },
  {
   "cell_type": "code",
   "execution_count": 117,
   "id": "50ada5ff",
   "metadata": {
    "id": "50ada5ff",
    "outputId": "2c8d1086-3a4c-4e41-aa0f-8be83c56e001"
   },
   "outputs": [
    {
     "data": {
      "text/plain": [
       "'ASSIGNMENTS-OPERATIONS'"
      ]
     },
     "execution_count": 117,
     "metadata": {},
     "output_type": "execute_result"
    }
   ],
   "source": [
    "info.replace(\" \",\"-\")"
   ]
  },
  {
   "cell_type": "code",
   "execution_count": 118,
   "id": "abf9c6b8",
   "metadata": {
    "id": "abf9c6b8",
    "outputId": "7f0ab44a-709d-4779-b928-2db4ed82d5a8"
   },
   "outputs": [
    {
     "data": {
      "text/plain": [
       "'ASSIGNMENTS OPERATIONS'"
      ]
     },
     "execution_count": 118,
     "metadata": {},
     "output_type": "execute_result"
    }
   ],
   "source": [
    "info"
   ]
  },
  {
   "cell_type": "code",
   "execution_count": 119,
   "id": "9e559cc8",
   "metadata": {
    "id": "9e559cc8",
    "outputId": "f1da2998-5b7e-42fe-9aa5-9ba61b93e3ab"
   },
   "outputs": [
    {
     "data": {
      "text/plain": [
       "'ASSIGNMENTS=OPERATIONS'"
      ]
     },
     "execution_count": 119,
     "metadata": {},
     "output_type": "execute_result"
    }
   ],
   "source": [
    "info.replace(\" \", \"=\")"
   ]
  },
  {
   "cell_type": "code",
   "execution_count": 120,
   "id": "b8fd0c0b",
   "metadata": {
    "id": "b8fd0c0b"
   },
   "outputs": [],
   "source": [
    "info = info.replace(\" \", \"=\")"
   ]
  },
  {
   "cell_type": "code",
   "execution_count": 121,
   "id": "b5277bf9",
   "metadata": {
    "id": "b5277bf9",
    "outputId": "cf62c7fd-d181-40b5-83de-4b62bef2996b"
   },
   "outputs": [
    {
     "data": {
      "text/plain": [
       "'ASSIGNMENTS=OPERATIONS'"
      ]
     },
     "execution_count": 121,
     "metadata": {},
     "output_type": "execute_result"
    }
   ],
   "source": [
    "info"
   ]
  },
  {
   "cell_type": "code",
   "execution_count": 122,
   "id": "4f03136c",
   "metadata": {
    "id": "4f03136c",
    "outputId": "61141be8-d1ea-4cea-b971-c36c38f83968"
   },
   "outputs": [
    {
     "data": {
      "text/plain": [
       "'ASSIGNMENTS=OPERATIONS'"
      ]
     },
     "execution_count": 122,
     "metadata": {},
     "output_type": "execute_result"
    }
   ],
   "source": [
    "info.upper()"
   ]
  },
  {
   "cell_type": "code",
   "execution_count": 123,
   "id": "c5c92087",
   "metadata": {
    "id": "c5c92087",
    "outputId": "67bd9fea-0f3d-48ea-ed15-d03005eff85d"
   },
   "outputs": [
    {
     "data": {
      "text/plain": [
       "'ASSIGNMENTS:OPERATIONS'"
      ]
     },
     "execution_count": 123,
     "metadata": {},
     "output_type": "execute_result"
    }
   ],
   "source": [
    "info.replace(\"=\", \":\")"
   ]
  },
  {
   "cell_type": "code",
   "execution_count": 124,
   "id": "0921230e",
   "metadata": {
    "id": "0921230e"
   },
   "outputs": [],
   "source": [
    "info = info.upper()"
   ]
  },
  {
   "cell_type": "code",
   "execution_count": 125,
   "id": "da2774c0",
   "metadata": {
    "id": "da2774c0",
    "outputId": "592414c9-39d3-46db-ef5e-006a72ae3a84"
   },
   "outputs": [
    {
     "data": {
      "text/plain": [
       "'ASSIGNMENTS=OPERATIONS'"
      ]
     },
     "execution_count": 125,
     "metadata": {},
     "output_type": "execute_result"
    }
   ],
   "source": [
    "info.replace(\" \", \"=\")"
   ]
  },
  {
   "cell_type": "code",
   "execution_count": 126,
   "id": "a7e9c70a",
   "metadata": {
    "id": "a7e9c70a",
    "outputId": "3adbefdb-8a97-40d6-9d08-2ee2c1b4e320"
   },
   "outputs": [
    {
     "data": {
      "text/plain": [
       "False"
      ]
     },
     "execution_count": 126,
     "metadata": {},
     "output_type": "execute_result"
    }
   ],
   "source": [
    "info.replace(\" \",\"|\").lower().isupper()"
   ]
  },
  {
   "cell_type": "code",
   "execution_count": 127,
   "id": "1e6a04d3",
   "metadata": {
    "id": "1e6a04d3",
    "outputId": "d976fac7-bb69-4161-89e4-2c0ca42b855a"
   },
   "outputs": [
    {
     "data": {
      "text/plain": [
       "'ASSIGNMENTS=OPERATIONS'"
      ]
     },
     "execution_count": 127,
     "metadata": {},
     "output_type": "execute_result"
    }
   ],
   "source": [
    "info.upper().replace(\" \", \"=\")"
   ]
  },
  {
   "cell_type": "code",
   "execution_count": 128,
   "id": "60db7ed5",
   "metadata": {
    "id": "60db7ed5"
   },
   "outputs": [],
   "source": [
    "a=\"kirmizi\".isupper()+\"YOK\".isupper()\n",
    "# a = False + True"
   ]
  },
  {
   "cell_type": "code",
   "execution_count": 129,
   "id": "2b7aeee9",
   "metadata": {
    "id": "2b7aeee9",
    "outputId": "f8781391-15b9-4fb0-9336-35f8063aaa9b"
   },
   "outputs": [
    {
     "data": {
      "text/plain": [
       "1"
      ]
     },
     "execution_count": 129,
     "metadata": {},
     "output_type": "execute_result"
    }
   ],
   "source": [
    "a"
   ]
  },
  {
   "cell_type": "code",
   "execution_count": 130,
   "id": "b5c0edc7",
   "metadata": {
    "id": "b5c0edc7",
    "outputId": "7e1d723b-415b-4fcd-af5e-288d921fd0ec"
   },
   "outputs": [
    {
     "data": {
      "text/plain": [
       "2"
      ]
     },
     "execution_count": 130,
     "metadata": {},
     "output_type": "execute_result"
    }
   ],
   "source": [
    "\"YESIL\".isupper()+\"AÇIK\".isupper()"
   ]
  },
  {
   "cell_type": "code",
   "execution_count": 131,
   "id": "dbdc3cfc",
   "metadata": {
    "id": "dbdc3cfc"
   },
   "outputs": [],
   "source": [
    "# Assignments Operations"
   ]
  },
  {
   "cell_type": "code",
   "execution_count": 132,
   "id": "793e578a",
   "metadata": {
    "id": "793e578a",
    "outputId": "2e4c5e2d-1ba5-4bd8-d073-ca6c0929484f"
   },
   "outputs": [
    {
     "data": {
      "text/plain": [
       "'Assignments Operations'"
      ]
     },
     "execution_count": 132,
     "metadata": {},
     "output_type": "execute_result"
    }
   ],
   "source": [
    "info = \"Assignments Operations\"\n",
    "info"
   ]
  },
  {
   "cell_type": "code",
   "execution_count": 133,
   "id": "aa9fda3e",
   "metadata": {
    "id": "aa9fda3e",
    "outputId": "4041a340-e301-416b-e758-018ef8fc8190"
   },
   "outputs": [
    {
     "data": {
      "text/plain": [
       "'ASSIGNMENTS OPERATIONS'"
      ]
     },
     "execution_count": 133,
     "metadata": {},
     "output_type": "execute_result"
    }
   ],
   "source": [
    "info.upper()"
   ]
  },
  {
   "cell_type": "code",
   "execution_count": 134,
   "id": "195dbf11",
   "metadata": {
    "id": "195dbf11",
    "outputId": "1a316615-b704-4102-95fa-656aafb8c38b"
   },
   "outputs": [
    {
     "data": {
      "text/plain": [
       "'assignments operations'"
      ]
     },
     "execution_count": 134,
     "metadata": {},
     "output_type": "execute_result"
    }
   ],
   "source": [
    "info.lower()"
   ]
  },
  {
   "cell_type": "code",
   "execution_count": 135,
   "id": "7837831d",
   "metadata": {
    "id": "7837831d",
    "outputId": "281ba734-eb25-46d1-cf7e-c03ef5a35b0a"
   },
   "outputs": [
    {
     "data": {
      "text/plain": [
       "'Assignments=Operations'"
      ]
     },
     "execution_count": 135,
     "metadata": {},
     "output_type": "execute_result"
    }
   ],
   "source": [
    "info.replace(\" \", \"=\")"
   ]
  },
  {
   "cell_type": "code",
   "execution_count": 136,
   "id": "5cec70b1",
   "metadata": {
    "id": "5cec70b1",
    "outputId": "ae5d5db9-9d8e-492c-d3ea-667da78f699b"
   },
   "outputs": [
    {
     "data": {
      "text/plain": [
       "False"
      ]
     },
     "execution_count": 136,
     "metadata": {},
     "output_type": "execute_result"
    }
   ],
   "source": [
    "\"ASs\".isupper()"
   ]
  },
  {
   "cell_type": "code",
   "execution_count": 137,
   "id": "d5d511ea",
   "metadata": {
    "id": "d5d511ea",
    "outputId": "609a463e-e1da-4cbf-90a5-b9f4f74b9fcf"
   },
   "outputs": [
    {
     "data": {
      "text/plain": [
       "False"
      ]
     },
     "execution_count": 137,
     "metadata": {},
     "output_type": "execute_result"
    }
   ],
   "source": [
    "info.isupper()"
   ]
  },
  {
   "cell_type": "code",
   "execution_count": 138,
   "id": "8aecc8f8",
   "metadata": {
    "id": "8aecc8f8",
    "outputId": "120e7b41-4aa4-4f0b-f369-66b6f2ad6dcb"
   },
   "outputs": [
    {
     "data": {
      "text/plain": [
       "int"
      ]
     },
     "execution_count": 138,
     "metadata": {},
     "output_type": "execute_result"
    }
   ],
   "source": [
    "a = 3\n",
    "type(3)"
   ]
  },
  {
   "cell_type": "markdown",
   "id": "2bdc1ea3",
   "metadata": {
    "id": "2bdc1ea3"
   },
   "source": [
    "## SECTION : DATA TYPES"
   ]
  },
  {
   "cell_type": "code",
   "execution_count": 139,
   "id": "f65ba204",
   "metadata": {
    "id": "f65ba204",
    "outputId": "5a087726-bc44-4fd7-da0e-bd609ab41555"
   },
   "outputs": [
    {
     "data": {
      "text/plain": [
       "int"
      ]
     },
     "execution_count": 139,
     "metadata": {},
     "output_type": "execute_result"
    }
   ],
   "source": [
    "# Data Types & Integer\n",
    "\n",
    "x = 18\n",
    "type(x)"
   ]
  },
  {
   "cell_type": "code",
   "execution_count": 140,
   "id": "4ca6aba1",
   "metadata": {
    "id": "4ca6aba1",
    "outputId": "41b39c3e-c98a-4ceb-d3af-39fa8a4a1acb"
   },
   "outputs": [
    {
     "data": {
      "text/plain": [
       "float"
      ]
     },
     "execution_count": 140,
     "metadata": {},
     "output_type": "execute_result"
    }
   ],
   "source": [
    "# Data Types & Integer\n",
    "\n",
    "y = 4.2\n",
    "type(y)"
   ]
  },
  {
   "cell_type": "code",
   "execution_count": 141,
   "id": "36f47122",
   "metadata": {
    "id": "36f47122",
    "outputId": "675649d0-f464-4bef-f06a-bb0883579806"
   },
   "outputs": [
    {
     "data": {
      "text/plain": [
       "str"
      ]
     },
     "execution_count": 141,
     "metadata": {},
     "output_type": "execute_result"
    }
   ],
   "source": [
    "# Data Types & String\n",
    "\n",
    "a = \"Hello miuul\"\n",
    "type(a)"
   ]
  },
  {
   "cell_type": "code",
   "execution_count": 142,
   "id": "f31614dd",
   "metadata": {
    "id": "f31614dd",
    "outputId": "c1839f4f-116b-4431-9b87-049130c1911d"
   },
   "outputs": [
    {
     "data": {
      "text/plain": [
       "bool"
      ]
     },
     "execution_count": 142,
     "metadata": {},
     "output_type": "execute_result"
    }
   ],
   "source": [
    "type(a.isupper())"
   ]
  },
  {
   "cell_type": "markdown",
   "id": "58ee4a51",
   "metadata": {
    "id": "58ee4a51"
   },
   "source": [
    "### LIST"
   ]
  },
  {
   "cell_type": "code",
   "execution_count": 143,
   "id": "4baaf903",
   "metadata": {
    "id": "4baaf903"
   },
   "outputs": [],
   "source": [
    "a =[3,5]"
   ]
  },
  {
   "cell_type": "code",
   "execution_count": 160,
   "id": "47166633",
   "metadata": {
    "id": "47166633"
   },
   "outputs": [],
   "source": [
    "listem = [2,3,11,\"1\",\"q\",True]"
   ]
  },
  {
   "cell_type": "code",
   "execution_count": 161,
   "id": "ea9ab05e",
   "metadata": {
    "id": "ea9ab05e",
    "outputId": "77b779d2-e751-425f-b5ba-0bd14f5652be"
   },
   "outputs": [
    {
     "data": {
      "text/plain": [
       "list"
      ]
     },
     "execution_count": 161,
     "metadata": {},
     "output_type": "execute_result"
    }
   ],
   "source": [
    "type(listem)"
   ]
  },
  {
   "cell_type": "code",
   "execution_count": 162,
   "id": "47f185db",
   "metadata": {
    "id": "47f185db",
    "outputId": "994ce292-5515-47f9-d863-e9bc31746b9c"
   },
   "outputs": [
    {
     "data": {
      "text/plain": [
       "2"
      ]
     },
     "execution_count": 162,
     "metadata": {},
     "output_type": "execute_result"
    }
   ],
   "source": [
    "listem[0]"
   ]
  },
  {
   "cell_type": "code",
   "execution_count": 163,
   "id": "fab6e0cb",
   "metadata": {
    "id": "fab6e0cb",
    "outputId": "09f7571b-9c90-4ebd-ce1f-5efe3599b85f"
   },
   "outputs": [
    {
     "data": {
      "text/plain": [
       "True"
      ]
     },
     "execution_count": 163,
     "metadata": {},
     "output_type": "execute_result"
    }
   ],
   "source": [
    "listem[5]"
   ]
  },
  {
   "cell_type": "code",
   "execution_count": 164,
   "id": "d292d46d",
   "metadata": {
    "id": "d292d46d"
   },
   "outputs": [],
   "source": [
    "listem.append(3)"
   ]
  },
  {
   "cell_type": "code",
   "execution_count": 165,
   "id": "1a5e2bf9",
   "metadata": {
    "id": "1a5e2bf9",
    "outputId": "bcac559f-1de7-48f9-8ac6-15eaf5c216ac"
   },
   "outputs": [
    {
     "data": {
      "text/plain": [
       "[2, 3, 11, '1', 'q', True, 3]"
      ]
     },
     "execution_count": 165,
     "metadata": {},
     "output_type": "execute_result"
    }
   ],
   "source": [
    "listem"
   ]
  },
  {
   "cell_type": "code",
   "execution_count": 166,
   "id": "9fd19ce8",
   "metadata": {
    "id": "9fd19ce8"
   },
   "outputs": [],
   "source": [
    "listem.insert(1,1)"
   ]
  },
  {
   "cell_type": "code",
   "execution_count": 167,
   "id": "27e21db5",
   "metadata": {
    "id": "27e21db5",
    "outputId": "b7aaa218-8254-4d0e-d4f6-44c459bcfb0c"
   },
   "outputs": [
    {
     "data": {
      "text/plain": [
       "[2, 1, 3, 11, '1', 'q', True, 3]"
      ]
     },
     "execution_count": 167,
     "metadata": {},
     "output_type": "execute_result"
    }
   ],
   "source": [
    "listem"
   ]
  },
  {
   "cell_type": "code",
   "execution_count": 152,
   "id": "c1b85a23",
   "metadata": {},
   "outputs": [
    {
     "data": {
      "text/plain": [
       "<function list.insert(index, object, /)>"
      ]
     },
     "execution_count": 152,
     "metadata": {},
     "output_type": "execute_result"
    }
   ],
   "source": [
    "listem.insert  #<function list.insert(index, object, /)>"
   ]
  },
  {
   "cell_type": "code",
   "execution_count": 168,
   "id": "f52a731b",
   "metadata": {
    "id": "f52a731b"
   },
   "outputs": [],
   "source": [
    "listem.insert(1,\"a\")"
   ]
  },
  {
   "cell_type": "code",
   "execution_count": 169,
   "id": "8e25f3c4",
   "metadata": {
    "id": "8e25f3c4",
    "outputId": "dbad9254-67c1-45d0-d1f7-1f89afd45ee7"
   },
   "outputs": [
    {
     "data": {
      "text/plain": [
       "[2, 'a', 1, 3, 11, '1', 'q', True, 3]"
      ]
     },
     "execution_count": 169,
     "metadata": {},
     "output_type": "execute_result"
    }
   ],
   "source": [
    "listem"
   ]
  },
  {
   "cell_type": "code",
   "execution_count": 170,
   "id": "60fd671e",
   "metadata": {
    "id": "60fd671e",
    "outputId": "258c5afb-2cd7-44b4-cbc8-db7c6db1c250"
   },
   "outputs": [
    {
     "data": {
      "text/plain": [
       "9"
      ]
     },
     "execution_count": 170,
     "metadata": {},
     "output_type": "execute_result"
    }
   ],
   "source": [
    "len(listem)"
   ]
  },
  {
   "cell_type": "code",
   "execution_count": 171,
   "id": "3d729abc",
   "metadata": {
    "id": "3d729abc",
    "outputId": "8a267805-6ec6-46e7-b772-d34a84e3f6ae"
   },
   "outputs": [
    {
     "data": {
      "text/plain": [
       "2"
      ]
     },
     "execution_count": 171,
     "metadata": {},
     "output_type": "execute_result"
    }
   ],
   "source": [
    "listem.index(1)  # returns what is in the 1st or nd index"
   ]
  },
  {
   "cell_type": "code",
   "execution_count": 172,
   "id": "5f4be73c",
   "metadata": {},
   "outputs": [
    {
     "data": {
      "text/plain": [
       "<function list.index(value, start=0, stop=9223372036854775807, /)>"
      ]
     },
     "execution_count": 172,
     "metadata": {},
     "output_type": "execute_result"
    }
   ],
   "source": [
    "listem.index  #<function list.index(value, start=0, stop=9223372036854775807, /)>"
   ]
  },
  {
   "cell_type": "code",
   "execution_count": 174,
   "id": "54f21658",
   "metadata": {},
   "outputs": [
    {
     "data": {
      "text/plain": [
       "[2, 'a', 1, 3, 11, '1', 'q', True, 3]"
      ]
     },
     "execution_count": 174,
     "metadata": {},
     "output_type": "execute_result"
    }
   ],
   "source": [
    "listem"
   ]
  },
  {
   "cell_type": "code",
   "execution_count": 179,
   "id": "aa3a0f0b",
   "metadata": {
    "id": "aa3a0f0b"
   },
   "outputs": [],
   "source": [
    "listem = [3,5,8,\"Python\",True,10]"
   ]
  },
  {
   "cell_type": "code",
   "execution_count": 180,
   "id": "dc9990c9",
   "metadata": {
    "id": "dc9990c9",
    "outputId": "098de872-1902-47cf-f203-d3bc5e011aad"
   },
   "outputs": [
    {
     "data": {
      "text/plain": [
       "[True, 10]"
      ]
     },
     "execution_count": 180,
     "metadata": {},
     "output_type": "execute_result"
    }
   ],
   "source": [
    "\n",
    "#[0,1,2,3,4,5]\n",
    "\n",
    "listem[4:6]  #returns 4th and up to 6th index"
   ]
  },
  {
   "cell_type": "code",
   "execution_count": 181,
   "id": "d86a22ee",
   "metadata": {
    "id": "d86a22ee",
    "outputId": "e05cf87e-4f92-42e2-a887-5d3220c56741"
   },
   "outputs": [
    {
     "data": {
      "text/plain": [
       "6"
      ]
     },
     "execution_count": 181,
     "metadata": {},
     "output_type": "execute_result"
    }
   ],
   "source": [
    "len(listem)"
   ]
  },
  {
   "cell_type": "code",
   "execution_count": 183,
   "id": "1a61326a",
   "metadata": {
    "id": "1a61326a",
    "outputId": "4b464689-7f2d-4c72-f49d-2b74924c6a8f"
   },
   "outputs": [
    {
     "data": {
      "text/plain": [
       "10"
      ]
     },
     "execution_count": 183,
     "metadata": {},
     "output_type": "execute_result"
    }
   ],
   "source": [
    "listem[len(listem)-1]  #[-x] sign mean always len()-x "
   ]
  },
  {
   "cell_type": "code",
   "execution_count": 184,
   "id": "9ed7d6a4",
   "metadata": {},
   "outputs": [
    {
     "data": {
      "text/plain": [
       "[3, 5, 8, 'Python', True, 10]"
      ]
     },
     "execution_count": 184,
     "metadata": {},
     "output_type": "execute_result"
    }
   ],
   "source": [
    "listem"
   ]
  },
  {
   "cell_type": "code",
   "execution_count": 187,
   "id": "4df2cb1f",
   "metadata": {
    "id": "4df2cb1f",
    "outputId": "0504ed97-7282-4e45-cc5d-76135523f780"
   },
   "outputs": [
    {
     "data": {
      "text/plain": [
       "8"
      ]
     },
     "execution_count": 187,
     "metadata": {},
     "output_type": "execute_result"
    }
   ],
   "source": [
    "listem[-4]"
   ]
  },
  {
   "cell_type": "code",
   "execution_count": 188,
   "id": "f2668034",
   "metadata": {
    "id": "f2668034",
    "outputId": "e961d67d-2fb1-44a8-b3b9-9c559a525656"
   },
   "outputs": [
    {
     "data": {
      "text/plain": [
       "[3, 5, 8, 'Python', True, 10]"
      ]
     },
     "execution_count": 188,
     "metadata": {},
     "output_type": "execute_result"
    }
   ],
   "source": [
    "listem"
   ]
  },
  {
   "cell_type": "code",
   "execution_count": 189,
   "id": "010d6bcf",
   "metadata": {
    "id": "010d6bcf",
    "outputId": "7e8a2277-86ac-42ee-b085-7e6340e9ca45"
   },
   "outputs": [
    {
     "data": {
      "text/plain": [
       "[2, 1, 3, 11, '1', 'q']"
      ]
     },
     "execution_count": 189,
     "metadata": {},
     "output_type": "execute_result"
    }
   ],
   "source": [
    "[2, 1, 3, 11, '1', 'q']"
   ]
  },
  {
   "cell_type": "code",
   "execution_count": 190,
   "id": "ce23f754",
   "metadata": {
    "id": "ce23f754",
    "outputId": "fe33b698-d0d7-4063-a62b-fa4c10b0babb"
   },
   "outputs": [
    {
     "data": {
      "text/plain": [
       "[2, 3.2, True, [3, 4, 5]]"
      ]
     },
     "execution_count": 190,
     "metadata": {},
     "output_type": "execute_result"
    }
   ],
   "source": [
    "[2,3.2,True,[3,4,5]]"
   ]
  },
  {
   "cell_type": "code",
   "execution_count": 191,
   "id": "5adb35b8",
   "metadata": {
    "id": "5adb35b8",
    "outputId": "481e34ea-9bdd-4e6c-9dc8-0deb07fca592"
   },
   "outputs": [
    {
     "data": {
      "text/plain": [
       "[2, 3.2, True, [3, 4, 5, [3, 4, 5]]]"
      ]
     },
     "execution_count": 191,
     "metadata": {},
     "output_type": "execute_result"
    }
   ],
   "source": [
    "[2,3.2,True,[3,4,5,[3,4,5]]]"
   ]
  },
  {
   "cell_type": "code",
   "execution_count": 192,
   "id": "b0b9566b",
   "metadata": {
    "id": "b0b9566b"
   },
   "outputs": [],
   "source": [
    "t= [2,3.2,True,[3,4,5,[3,4,5]]] # ikinci dorde nasil gidilir"
   ]
  },
  {
   "cell_type": "code",
   "execution_count": 193,
   "id": "3978bf65",
   "metadata": {
    "id": "3978bf65",
    "outputId": "0676de60-a661-4cee-88cb-827b2538e015"
   },
   "outputs": [
    {
     "data": {
      "text/plain": [
       "4"
      ]
     },
     "execution_count": 193,
     "metadata": {},
     "output_type": "execute_result"
    }
   ],
   "source": [
    "t[3][3][1]"
   ]
  },
  {
   "cell_type": "code",
   "execution_count": 194,
   "id": "712f2fb9",
   "metadata": {
    "id": "712f2fb9"
   },
   "outputs": [],
   "source": [
    "q= [[2,1,2,10,11],\n",
    " [2,1,2,10,11],\n",
    " [2,1,2,10,11]]"
   ]
  },
  {
   "cell_type": "code",
   "execution_count": 195,
   "id": "cdb7a9da",
   "metadata": {
    "id": "cdb7a9da",
    "outputId": "cddae80a-a884-4435-d4d1-1e7197a9a6ec"
   },
   "outputs": [
    {
     "data": {
      "text/plain": [
       "11"
      ]
     },
     "execution_count": 195,
     "metadata": {},
     "output_type": "execute_result"
    }
   ],
   "source": [
    "q[2][-1]"
   ]
  },
  {
   "cell_type": "code",
   "execution_count": 196,
   "id": "23f1748a",
   "metadata": {
    "id": "23f1748a",
    "outputId": "216f200d-24da-4bdf-cb44-093fc1a4841b"
   },
   "outputs": [
    {
     "data": {
      "text/plain": [
       "[3, 5, 8, 'Python', True, 10]"
      ]
     },
     "execution_count": 196,
     "metadata": {},
     "output_type": "execute_result"
    }
   ],
   "source": [
    "listem"
   ]
  },
  {
   "cell_type": "code",
   "execution_count": null,
   "id": "c904c257",
   "metadata": {
    "id": "c904c257"
   },
   "outputs": [],
   "source": [
    "#listem = [3,5,8,\"Python\",True,10]\n",
    "#array = [3,5,8,3,10]\n",
    "#array = [2,1,2,10,11]\n",
    "\n",
    "[[2,1,2,10,11],\n",
    " [2,1,2,10,11],\n",
    " [2,1,2,10,11]]\n",
    "\n",
    "\n",
    "\n",
    "#Liste>>>Array>>>DataFrame\n",
    "#Orj>>>Numpy>>>Pandas +++ Veri Manipulasyonu\n",
    "#Veri Gorsellestirme ..\n"
   ]
  },
  {
   "cell_type": "code",
   "execution_count": 197,
   "id": "d3c46c87",
   "metadata": {
    "id": "d3c46c87"
   },
   "outputs": [],
   "source": [
    "my_list = [3,3,4, 'a',True]\n",
    "\n",
    "#[3,3,4, 'a',True]\n",
    "#0,1,2,3,4"
   ]
  },
  {
   "cell_type": "code",
   "execution_count": 198,
   "id": "aa270697",
   "metadata": {
    "id": "aa270697",
    "outputId": "4c6ea705-f55b-4011-9916-a15559afbfe9"
   },
   "outputs": [
    {
     "data": {
      "text/plain": [
       "[3, 3, 4, 'a', True]"
      ]
     },
     "execution_count": 198,
     "metadata": {},
     "output_type": "execute_result"
    }
   ],
   "source": [
    "my_list"
   ]
  },
  {
   "cell_type": "code",
   "execution_count": 199,
   "id": "0dc311ed",
   "metadata": {
    "id": "0dc311ed",
    "outputId": "02e22afd-3b15-4a32-bd8b-a650033b1c23"
   },
   "outputs": [
    {
     "data": {
      "text/plain": [
       "5"
      ]
     },
     "execution_count": 199,
     "metadata": {},
     "output_type": "execute_result"
    }
   ],
   "source": [
    "len(my_list)"
   ]
  },
  {
   "cell_type": "code",
   "execution_count": 200,
   "id": "4227d230",
   "metadata": {
    "id": "4227d230"
   },
   "outputs": [],
   "source": [
    "#[3, 3, 4, 'a', True]\n",
    "#[0, 1, 2,  3,   4]"
   ]
  },
  {
   "cell_type": "code",
   "execution_count": 201,
   "id": "370de069",
   "metadata": {
    "id": "370de069",
    "outputId": "c4bb62f5-fe04-4544-e72b-508a8e3918c6"
   },
   "outputs": [
    {
     "data": {
      "text/plain": [
       "'a'"
      ]
     },
     "execution_count": 201,
     "metadata": {},
     "output_type": "execute_result"
    }
   ],
   "source": [
    "my_list[3]"
   ]
  },
  {
   "cell_type": "code",
   "execution_count": 202,
   "id": "5e14a124",
   "metadata": {
    "id": "5e14a124"
   },
   "outputs": [],
   "source": [
    "veri = my_list[3]"
   ]
  },
  {
   "cell_type": "code",
   "execution_count": 203,
   "id": "61e4818a",
   "metadata": {
    "id": "61e4818a",
    "outputId": "321d6c89-6cc5-4c76-c914-985a00359d2a"
   },
   "outputs": [
    {
     "data": {
      "text/plain": [
       "'a'"
      ]
     },
     "execution_count": 203,
     "metadata": {},
     "output_type": "execute_result"
    }
   ],
   "source": [
    "veri # Listenin. 4. elemani"
   ]
  },
  {
   "cell_type": "code",
   "execution_count": 204,
   "id": "f19a4143",
   "metadata": {
    "id": "f19a4143"
   },
   "outputs": [],
   "source": [
    "my_list[3]='miuul'"
   ]
  },
  {
   "cell_type": "code",
   "execution_count": 205,
   "id": "75d2419c",
   "metadata": {
    "id": "75d2419c",
    "outputId": "a13fdcd1-109c-415b-c383-6f49c20f2647"
   },
   "outputs": [
    {
     "data": {
      "text/plain": [
       "[3, 3, 4, 'miuul', True]"
      ]
     },
     "execution_count": 205,
     "metadata": {},
     "output_type": "execute_result"
    }
   ],
   "source": [
    "my_list"
   ]
  },
  {
   "cell_type": "code",
   "execution_count": 206,
   "id": "72600099",
   "metadata": {
    "id": "72600099",
    "outputId": "2869e3f0-3239-4909-e02f-dc30004bce9a"
   },
   "outputs": [
    {
     "data": {
      "text/plain": [
       "4"
      ]
     },
     "execution_count": 206,
     "metadata": {},
     "output_type": "execute_result"
    }
   ],
   "source": [
    "my_list[2]  #2. indeks... 0,1,2,3..."
   ]
  },
  {
   "cell_type": "code",
   "execution_count": 207,
   "id": "28385efe",
   "metadata": {
    "id": "28385efe",
    "outputId": "78516d62-85dc-4544-9e75-ae888ed1afa2"
   },
   "outputs": [
    {
     "data": {
      "text/plain": [
       "'miuul'"
      ]
     },
     "execution_count": 207,
     "metadata": {},
     "output_type": "execute_result"
    }
   ],
   "source": [
    "my_list[3]"
   ]
  },
  {
   "cell_type": "code",
   "execution_count": 208,
   "id": "5eb5e3ae",
   "metadata": {
    "id": "5eb5e3ae",
    "outputId": "3ac62d64-929e-403a-d90c-d76cfb22be4a"
   },
   "outputs": [
    {
     "data": {
      "text/plain": [
       "[4, 'miuul']"
      ]
     },
     "execution_count": 208,
     "metadata": {},
     "output_type": "execute_result"
    }
   ],
   "source": [
    "my_list[2:4]"
   ]
  },
  {
   "cell_type": "code",
   "execution_count": 209,
   "id": "da06b5df",
   "metadata": {
    "id": "da06b5df"
   },
   "outputs": [],
   "source": [
    "my_list[3]='miuul'"
   ]
  },
  {
   "cell_type": "code",
   "execution_count": 210,
   "id": "81b90d8d",
   "metadata": {
    "id": "81b90d8d",
    "outputId": "d39cfd3d-dfef-4924-858e-81de5281a6e5"
   },
   "outputs": [
    {
     "data": {
      "text/plain": [
       "[3, 3, 4, 'miuul', True]"
      ]
     },
     "execution_count": 210,
     "metadata": {},
     "output_type": "execute_result"
    }
   ],
   "source": [
    "my_list"
   ]
  },
  {
   "cell_type": "markdown",
   "id": "0a3dc1f5",
   "metadata": {
    "id": "0a3dc1f5"
   },
   "source": [
    "## SECTION 3 : LIST is THE BEST"
   ]
  },
  {
   "cell_type": "code",
   "execution_count": 211,
   "id": "8bede766",
   "metadata": {
    "id": "8bede766"
   },
   "outputs": [],
   "source": [
    "# LIST  >> Array >> Data Frame"
   ]
  },
  {
   "cell_type": "code",
   "execution_count": 212,
   "id": "25f32306",
   "metadata": {
    "id": "25f32306"
   },
   "outputs": [],
   "source": [
    "# LIST  >> Array >> Data Frame\n",
    "\n",
    "# [\"a\",1,[2,3],True]\n",
    "# [2,3,4,7,10] # lineer cebir\n",
    "# [2,3,4,7,10] # ddata kolonu (Ismi)"
   ]
  },
  {
   "cell_type": "markdown",
   "id": "12193d72",
   "metadata": {
    "id": "12193d72"
   },
   "source": [
    "* Practice 1"
   ]
  },
  {
   "cell_type": "code",
   "execution_count": 213,
   "id": "36d75a95",
   "metadata": {
    "id": "36d75a95",
    "outputId": "e8b4a7e0-f154-42f8-ab60-1d292ede20e8"
   },
   "outputs": [
    {
     "data": {
      "text/plain": [
       "'miuul'"
      ]
     },
     "execution_count": 213,
     "metadata": {},
     "output_type": "execute_result"
    }
   ],
   "source": [
    "\"miuul\""
   ]
  },
  {
   "cell_type": "code",
   "execution_count": 214,
   "id": "1880c5fd",
   "metadata": {
    "id": "1880c5fd"
   },
   "outputs": [],
   "source": [
    "text = \"Once you stop learning, you-start dying.\""
   ]
  },
  {
   "cell_type": "code",
   "execution_count": 215,
   "id": "243bee97",
   "metadata": {
    "id": "243bee97",
    "outputId": "6549cf1b-9c99-42cd-a3b7-6a4bf5f72f11"
   },
   "outputs": [
    {
     "data": {
      "text/plain": [
       "4"
      ]
     },
     "execution_count": 215,
     "metadata": {},
     "output_type": "execute_result"
    }
   ],
   "source": [
    "text.upper().count(\"O\")"
   ]
  },
  {
   "cell_type": "code",
   "execution_count": 216,
   "id": "461bc743",
   "metadata": {
    "id": "461bc743",
    "outputId": "5ed6f403-4f90-4ac8-a509-05faa45cb6e7"
   },
   "outputs": [
    {
     "data": {
      "text/plain": [
       "'ONCE YOU STOP LEARNING, YOU-START DYING.'"
      ]
     },
     "execution_count": 216,
     "metadata": {},
     "output_type": "execute_result"
    }
   ],
   "source": [
    "text.upper()"
   ]
  },
  {
   "cell_type": "code",
   "execution_count": 217,
   "id": "ac0f69fb",
   "metadata": {
    "id": "ac0f69fb",
    "outputId": "f2336f15-817f-45a2-cb76-a49e63bb90ba"
   },
   "outputs": [
    {
     "data": {
      "text/plain": [
       "'Once you stop learning |  you-start dying.'"
      ]
     },
     "execution_count": 217,
     "metadata": {},
     "output_type": "execute_result"
    }
   ],
   "source": [
    "text.replace(\",\", \" | \")"
   ]
  },
  {
   "cell_type": "code",
   "execution_count": 218,
   "id": "9a3bceba",
   "metadata": {
    "id": "9a3bceba",
    "outputId": "e39fc902-b0c1-4732-c5df-faea9bab70fe"
   },
   "outputs": [
    {
     "data": {
      "text/plain": [
       "'Once you stop learning, you-start dying.'"
      ]
     },
     "execution_count": 218,
     "metadata": {},
     "output_type": "execute_result"
    }
   ],
   "source": [
    "text"
   ]
  },
  {
   "cell_type": "code",
   "execution_count": 219,
   "id": "bc6ce6f3",
   "metadata": {
    "id": "bc6ce6f3",
    "outputId": "7107ccb9-c896-4012-ee11-18cbb1a7ba3b"
   },
   "outputs": [
    {
     "data": {
      "text/plain": [
       "['Once', 'you', 'stop', 'learning,', 'you-start', 'dying.']"
      ]
     },
     "execution_count": 219,
     "metadata": {},
     "output_type": "execute_result"
    }
   ],
   "source": [
    "text.split()"
   ]
  },
  {
   "cell_type": "code",
   "execution_count": 220,
   "id": "3ff699c3",
   "metadata": {
    "id": "3ff699c3"
   },
   "outputs": [],
   "source": [
    "sp  = text.split()"
   ]
  },
  {
   "cell_type": "code",
   "execution_count": 221,
   "id": "f2972803",
   "metadata": {
    "id": "f2972803",
    "outputId": "8834c56b-c8f9-44a6-b29b-bf4d62064246"
   },
   "outputs": [
    {
     "data": {
      "text/plain": [
       "'dying.'"
      ]
     },
     "execution_count": 221,
     "metadata": {},
     "output_type": "execute_result"
    }
   ],
   "source": [
    "sp[-1]"
   ]
  },
  {
   "cell_type": "code",
   "execution_count": 222,
   "id": "3d509f50",
   "metadata": {
    "id": "3d509f50",
    "outputId": "9dcf02bb-6931-43fa-a391-1c3c2a6a3c45"
   },
   "outputs": [
    {
     "data": {
      "text/plain": [
       "'Once you'"
      ]
     },
     "execution_count": 222,
     "metadata": {},
     "output_type": "execute_result"
    }
   ],
   "source": [
    "sp[0]+\" \"+sp[1]"
   ]
  },
  {
   "cell_type": "code",
   "execution_count": 223,
   "id": "44b0dad0",
   "metadata": {
    "id": "44b0dad0",
    "outputId": "6447afa6-0296-470e-d8cb-5bb257685b32"
   },
   "outputs": [
    {
     "data": {
      "text/plain": [
       "'Once you stop learning, you-start dying.'"
      ]
     },
     "execution_count": 223,
     "metadata": {},
     "output_type": "execute_result"
    }
   ],
   "source": [
    "text"
   ]
  },
  {
   "cell_type": "code",
   "execution_count": 224,
   "id": "1448c90a",
   "metadata": {
    "id": "1448c90a",
    "outputId": "de3900a3-0a4e-44da-81e4-2c27e38c70a2"
   },
   "outputs": [
    {
     "data": {
      "text/plain": [
       "['ONCE YOU STOP LEARNING$$$$ YOU', 'START DYING%%%']"
      ]
     },
     "execution_count": 224,
     "metadata": {},
     "output_type": "execute_result"
    }
   ],
   "source": [
    "text.upper().replace(\",\", \"$$$$\").replace(\".\", \"%%%\").split(\"-\")"
   ]
  },
  {
   "cell_type": "code",
   "execution_count": 225,
   "id": "8a4f276b",
   "metadata": {
    "id": "8a4f276b",
    "outputId": "3d0a9926-558e-4e92-ea8c-c3d21580c4b5"
   },
   "outputs": [
    {
     "data": {
      "text/plain": [
       "['ONCE', 'YOU', 'STOP', 'LEARNING$$$$', 'YOU-START', 'DYING%%%']"
      ]
     },
     "execution_count": 225,
     "metadata": {},
     "output_type": "execute_result"
    }
   ],
   "source": [
    "text.upper().replace(\",\", \"$$$$\").replace(\".\", \"%%%\").split()"
   ]
  },
  {
   "cell_type": "markdown",
   "id": "b7dbecc8",
   "metadata": {
    "id": "b7dbecc8"
   },
   "source": [
    "* Practice 2"
   ]
  },
  {
   "cell_type": "code",
   "execution_count": 226,
   "id": "5732e31b",
   "metadata": {
    "id": "5732e31b",
    "outputId": "4df75eb1-f8cd-46b0-e316-e321e0e2221a"
   },
   "outputs": [
    {
     "data": {
      "text/plain": [
       "['D', 'A', 'T', 'A', ' ', 'S', 'C', 'I', 'E', 'N', 'C', 'E']"
      ]
     },
     "execution_count": 226,
     "metadata": {},
     "output_type": "execute_result"
    }
   ],
   "source": [
    "my_list = [\"D\",\"A\",\"T\",\"A\",\" \",\"S\",\"C\",\"I\",\"E\",\"N\",\"C\",\"E\"]\n",
    "my_list"
   ]
  },
  {
   "cell_type": "code",
   "execution_count": 227,
   "id": "45e47161",
   "metadata": {
    "id": "45e47161",
    "outputId": "3436e157-6110-40f8-ae10-f278b4b59a51"
   },
   "outputs": [
    {
     "data": {
      "text/plain": [
       "12"
      ]
     },
     "execution_count": 227,
     "metadata": {},
     "output_type": "execute_result"
    }
   ],
   "source": [
    "len(my_list)"
   ]
  },
  {
   "cell_type": "code",
   "execution_count": 228,
   "id": "4eacdcda",
   "metadata": {
    "id": "4eacdcda",
    "outputId": "3bd19c75-161d-4d9c-93b5-f1dd48572ba7"
   },
   "outputs": [
    {
     "name": "stdout",
     "output_type": "stream",
     "text": [
      "DDD\n",
      "AAA\n",
      "TTT\n",
      "AAA\n",
      "   \n",
      "SSS\n",
      "CCC\n",
      "III\n",
      "EEE\n",
      "NNN\n",
      "CCC\n",
      "EEE\n"
     ]
    }
   ],
   "source": [
    "for u in my_list:\n",
    "    print(u+u+u)"
   ]
  },
  {
   "cell_type": "code",
   "execution_count": 229,
   "id": "e43a879d",
   "metadata": {
    "id": "e43a879d"
   },
   "outputs": [],
   "source": [
    "yeniliste = [2,3,4,7,10]"
   ]
  },
  {
   "cell_type": "code",
   "execution_count": 230,
   "id": "3c8cbe24",
   "metadata": {
    "id": "3c8cbe24",
    "outputId": "56487e67-28e7-4295-dee2-9eb0733c8b73"
   },
   "outputs": [
    {
     "name": "stdout",
     "output_type": "stream",
     "text": [
      "4\n",
      "9\n",
      "16\n",
      "49\n",
      "100\n"
     ]
    }
   ],
   "source": [
    "for G in yeniliste:\n",
    "    a=G*G\n",
    "    print(a)"
   ]
  },
  {
   "cell_type": "code",
   "execution_count": 231,
   "id": "e8132695",
   "metadata": {
    "id": "e8132695",
    "outputId": "62960c7b-e2aa-45e2-a0ca-bfd388ff827a"
   },
   "outputs": [
    {
     "name": "stdout",
     "output_type": "stream",
     "text": [
      "2\n",
      "4\n",
      "--------\n",
      "3\n",
      "9\n",
      "--------\n",
      "4\n",
      "16\n",
      "--------\n",
      "7\n",
      "49\n",
      "--------\n",
      "10\n",
      "100\n",
      "--------\n"
     ]
    }
   ],
   "source": [
    "for G in yeniliste:\n",
    "    print(G)\n",
    "    print(G*G)\n",
    "    print(\"--------\")"
   ]
  },
  {
   "cell_type": "code",
   "execution_count": 232,
   "id": "438d6962",
   "metadata": {
    "id": "438d6962"
   },
   "outputs": [],
   "source": [
    "ekliste = []\n",
    "yeniliste = [2,3,4,7,10]"
   ]
  },
  {
   "cell_type": "code",
   "execution_count": null,
   "id": "3aa52a69",
   "metadata": {
    "id": "3aa52a69",
    "outputId": "e72e23f7-c6df-45f8-9339-09a0e63f3e63"
   },
   "outputs": [
    {
     "name": "stdout",
     "output_type": "stream",
     "text": [
      "[2]\n",
      "[2, 3]\n",
      "[2, 3, 4]\n",
      "[2, 3, 4, 7]\n",
      "[2, 3, 4, 7, 10]\n"
     ]
    }
   ],
   "source": [
    "for G in yeniliste:\n",
    "    ekliste.append(G)\n",
    "    print(ekliste)"
   ]
  },
  {
   "cell_type": "code",
   "execution_count": 233,
   "id": "4636fe7f",
   "metadata": {
    "id": "4636fe7f"
   },
   "outputs": [],
   "source": [
    "# Odev 1\n",
    "toplam = []\n",
    "a = [3,5,5,4,11]\n",
    "b = [2,3,4,7,10] # a ve b'nin toplamini bulunuz"
   ]
  },
  {
   "cell_type": "code",
   "execution_count": 234,
   "id": "e7b7fc1a",
   "metadata": {
    "id": "e7b7fc1a",
    "outputId": "7f2f9d87-dc45-46d4-ba07-0cf77adf38a4"
   },
   "outputs": [
    {
     "data": {
      "text/plain": [
       "[3, 5, 5, 4, 11, 2, 3, 4, 7, 10]"
      ]
     },
     "execution_count": 234,
     "metadata": {},
     "output_type": "execute_result"
    }
   ],
   "source": [
    "a+b"
   ]
  },
  {
   "cell_type": "code",
   "execution_count": 235,
   "id": "5ebe8dbc",
   "metadata": {
    "id": "5ebe8dbc"
   },
   "outputs": [],
   "source": [
    "# Listenin >> Array"
   ]
  },
  {
   "cell_type": "code",
   "execution_count": 236,
   "id": "7c31e2ea",
   "metadata": {
    "id": "7c31e2ea",
    "outputId": "7bdea6fd-213b-4680-a5b2-8dc87dcc035d"
   },
   "outputs": [
    {
     "name": "stdout",
     "output_type": "stream",
     "text": [
      "D\n",
      "A\n",
      "T\n",
      "A\n",
      " \n",
      "S\n",
      "C\n",
      "I\n",
      "E\n",
      "N\n",
      "C\n",
      "E\n"
     ]
    }
   ],
   "source": [
    "for u in my_list:\n",
    "    print(u.upper())"
   ]
  },
  {
   "cell_type": "code",
   "execution_count": 237,
   "id": "284485bd",
   "metadata": {
    "id": "284485bd"
   },
   "outputs": [],
   "source": [
    "my_listB = \"DATA SCIENCE\""
   ]
  },
  {
   "cell_type": "code",
   "execution_count": 238,
   "id": "9a5bc13d",
   "metadata": {
    "id": "9a5bc13d",
    "outputId": "bbc29a45-76e1-4b09-9dd6-fdb25a03c8f3"
   },
   "outputs": [
    {
     "data": {
      "text/plain": [
       "str"
      ]
     },
     "execution_count": 238,
     "metadata": {},
     "output_type": "execute_result"
    }
   ],
   "source": [
    "type(my_listB)"
   ]
  },
  {
   "cell_type": "code",
   "execution_count": 239,
   "id": "234dd7bd",
   "metadata": {
    "id": "234dd7bd",
    "outputId": "d75ebf46-b4dc-4002-8cb1-2b0ea65a497b"
   },
   "outputs": [
    {
     "data": {
      "text/plain": [
       "12"
      ]
     },
     "execution_count": 239,
     "metadata": {},
     "output_type": "execute_result"
    }
   ],
   "source": [
    "len(my_listB)"
   ]
  },
  {
   "cell_type": "code",
   "execution_count": 240,
   "id": "64c0107e",
   "metadata": {
    "id": "64c0107e",
    "outputId": "2f7d80a6-1f66-4894-e117-8142db07146f"
   },
   "outputs": [
    {
     "data": {
      "text/plain": [
       "'E'"
      ]
     },
     "execution_count": 240,
     "metadata": {},
     "output_type": "execute_result"
    }
   ],
   "source": [
    "my_list[11]"
   ]
  },
  {
   "cell_type": "code",
   "execution_count": 241,
   "id": "29d62fe0",
   "metadata": {
    "id": "29d62fe0",
    "outputId": "b4df70f6-7d12-4851-e263-bb354f73bbf3"
   },
   "outputs": [
    {
     "data": {
      "text/plain": [
       "'E'"
      ]
     },
     "execution_count": 241,
     "metadata": {},
     "output_type": "execute_result"
    }
   ],
   "source": [
    "my_list[len(my_list)-1]"
   ]
  },
  {
   "cell_type": "code",
   "execution_count": 242,
   "id": "9970534d",
   "metadata": {
    "id": "9970534d",
    "outputId": "3829b733-5e5d-498b-a18f-2709793174d6"
   },
   "outputs": [
    {
     "data": {
      "text/plain": [
       "'E'"
      ]
     },
     "execution_count": 242,
     "metadata": {},
     "output_type": "execute_result"
    }
   ],
   "source": [
    "my_list[-1]"
   ]
  },
  {
   "cell_type": "code",
   "execution_count": 243,
   "id": "6b5f4196",
   "metadata": {
    "id": "6b5f4196",
    "outputId": "6aed9b38-add8-4b3d-9dc1-a54b954749a9"
   },
   "outputs": [
    {
     "data": {
      "text/plain": [
       "'E'"
      ]
     },
     "execution_count": 243,
     "metadata": {},
     "output_type": "execute_result"
    }
   ],
   "source": [
    "my_list[len(my_list)-1]"
   ]
  },
  {
   "cell_type": "code",
   "execution_count": 244,
   "id": "65959580",
   "metadata": {
    "id": "65959580",
    "outputId": "8cd700ed-b80a-48c5-d92a-4064ce65b5d7"
   },
   "outputs": [
    {
     "data": {
      "text/plain": [
       "'E'"
      ]
     },
     "execution_count": 244,
     "metadata": {},
     "output_type": "execute_result"
    }
   ],
   "source": [
    "my_list[-1]"
   ]
  },
  {
   "cell_type": "code",
   "execution_count": 245,
   "id": "2a609c8f",
   "metadata": {
    "id": "2a609c8f",
    "outputId": "f745f00e-34a8-40e3-ef8e-462eac79f87d"
   },
   "outputs": [
    {
     "data": {
      "text/plain": [
       "'D'"
      ]
     },
     "execution_count": 245,
     "metadata": {},
     "output_type": "execute_result"
    }
   ],
   "source": [
    "my_list[0]"
   ]
  },
  {
   "cell_type": "code",
   "execution_count": 246,
   "id": "15d6081a",
   "metadata": {
    "id": "15d6081a",
    "outputId": "a6713739-e9d2-479f-cac5-cbe81847108f"
   },
   "outputs": [
    {
     "data": {
      "text/plain": [
       "['D', 'A', 'T', 'A', ' ', 'S', 'C', 'I', 'E', 'N', 'C', 'E']"
      ]
     },
     "execution_count": 246,
     "metadata": {},
     "output_type": "execute_result"
    }
   ],
   "source": [
    "my_list"
   ]
  },
  {
   "cell_type": "code",
   "execution_count": 247,
   "id": "8a0d1fac",
   "metadata": {
    "id": "8a0d1fac",
    "outputId": "c2d1b83c-f040-488c-f8fa-1eadd9a2299a"
   },
   "outputs": [
    {
     "data": {
      "text/plain": [
       "['D', 'A', 'T', 'A']"
      ]
     },
     "execution_count": 247,
     "metadata": {},
     "output_type": "execute_result"
    }
   ],
   "source": [
    "my_list[0:4]"
   ]
  },
  {
   "cell_type": "code",
   "execution_count": 248,
   "id": "a80f44b8",
   "metadata": {
    "id": "a80f44b8",
    "outputId": "54b987db-7a15-41f6-edfa-ef1cdc948d21"
   },
   "outputs": [
    {
     "data": {
      "text/plain": [
       "['D', 'A', 'T', 'A', ' ', 'S', 'C', 'I', 'E', 'N', 'C', 'E']"
      ]
     },
     "execution_count": 248,
     "metadata": {},
     "output_type": "execute_result"
    }
   ],
   "source": [
    "my_list[0:4]+my_list[4:12]"
   ]
  },
  {
   "cell_type": "code",
   "execution_count": 249,
   "id": "dda85d0b",
   "metadata": {
    "id": "dda85d0b",
    "outputId": "26057988-dc58-46c7-b196-814b5ca2ff5c"
   },
   "outputs": [
    {
     "data": {
      "text/plain": [
       "['D', 'A', 'T', 'A', ' ', 'S', 'C', 'I', 'E', 'N', 'C', 'E']"
      ]
     },
     "execution_count": 249,
     "metadata": {},
     "output_type": "execute_result"
    }
   ],
   "source": [
    "my_list # Ekleme"
   ]
  },
  {
   "cell_type": "code",
   "execution_count": 250,
   "id": "ad33d7d9",
   "metadata": {
    "id": "ad33d7d9",
    "outputId": "15f241b2-2bf7-4546-e364-0c7f5f3add63"
   },
   "outputs": [
    {
     "data": {
      "text/plain": [
       "['D', 'A', 'T', 'A', ' & ', ' ', 'S', 'C', 'I', 'E', 'N', 'C', 'E']"
      ]
     },
     "execution_count": 250,
     "metadata": {},
     "output_type": "execute_result"
    }
   ],
   "source": [
    "my_list.insert(4, \" & \")\n",
    "my_list"
   ]
  },
  {
   "cell_type": "code",
   "execution_count": 251,
   "id": "7cee2c38",
   "metadata": {
    "id": "7cee2c38",
    "outputId": "e2a1d856-9a62-483b-dc17-e6e02bcd8555"
   },
   "outputs": [
    {
     "data": {
      "text/plain": [
       "13"
      ]
     },
     "execution_count": 251,
     "metadata": {},
     "output_type": "execute_result"
    }
   ],
   "source": [
    "len(my_list)"
   ]
  },
  {
   "cell_type": "code",
   "execution_count": 252,
   "id": "89ab3470",
   "metadata": {
    "id": "89ab3470"
   },
   "outputs": [],
   "source": [
    "my_list = [1,2,3,[10,20,30],4,(10,20,30)]"
   ]
  },
  {
   "cell_type": "code",
   "execution_count": 253,
   "id": "9db28080",
   "metadata": {
    "id": "9db28080"
   },
   "outputs": [],
   "source": [
    "# my_list_plus = [1,2,3,[10,20,[1,2,3,[10,20,30],4,1,2,3,[10,20,30],4]],4]"
   ]
  },
  {
   "cell_type": "code",
   "execution_count": 254,
   "id": "e7eba2a4",
   "metadata": {
    "id": "e7eba2a4",
    "outputId": "c40140f2-4577-4556-9afe-40eb080d6714"
   },
   "outputs": [
    {
     "data": {
      "text/plain": [
       "[10, 20, 30]"
      ]
     },
     "execution_count": 254,
     "metadata": {},
     "output_type": "execute_result"
    }
   ],
   "source": [
    "my_list[3]"
   ]
  },
  {
   "cell_type": "code",
   "execution_count": 255,
   "id": "fe8a36d3",
   "metadata": {
    "id": "fe8a36d3",
    "outputId": "257a9afe-42d0-4c7d-e4d7-2bfcfe85d2a5"
   },
   "outputs": [
    {
     "data": {
      "text/plain": [
       "30"
      ]
     },
     "execution_count": 255,
     "metadata": {},
     "output_type": "execute_result"
    }
   ],
   "source": [
    "my_list[3][2]"
   ]
  },
  {
   "cell_type": "code",
   "execution_count": 256,
   "id": "e7f48ebc",
   "metadata": {
    "id": "e7f48ebc",
    "outputId": "5a6dc8fe-7804-4a59-dfcc-bba9473939e8"
   },
   "outputs": [
    {
     "data": {
      "text/plain": [
       "30"
      ]
     },
     "execution_count": 256,
     "metadata": {},
     "output_type": "execute_result"
    }
   ],
   "source": [
    "my_list[3][2]"
   ]
  },
  {
   "cell_type": "code",
   "execution_count": 257,
   "id": "a7e29c49",
   "metadata": {
    "id": "a7e29c49",
    "outputId": "73c0e39d-31b9-4a02-cc75-84e34b8bbde2"
   },
   "outputs": [
    {
     "data": {
      "text/plain": [
       "[3, [10, 20, 30], 4, (10, 20, 30)]"
      ]
     },
     "execution_count": 257,
     "metadata": {},
     "output_type": "execute_result"
    }
   ],
   "source": [
    "my_list[2:]"
   ]
  },
  {
   "cell_type": "code",
   "execution_count": 258,
   "id": "9d2ada4d",
   "metadata": {
    "id": "9d2ada4d",
    "outputId": "0e54ac23-71d8-4764-9211-f687c09ab6ef"
   },
   "outputs": [
    {
     "data": {
      "text/plain": [
       "[4, (10, 20, 30)]"
      ]
     },
     "execution_count": 258,
     "metadata": {},
     "output_type": "execute_result"
    }
   ],
   "source": [
    "my_list[4:]"
   ]
  },
  {
   "cell_type": "code",
   "execution_count": 259,
   "id": "135bd698",
   "metadata": {
    "id": "135bd698"
   },
   "outputs": [],
   "source": [
    "my_list = [\"D\",\"A\",\"T\",\"A\",\" \",\"S\",\"C\",\"I\",\"E\",\"N\",\"C\",\"E\"]"
   ]
  },
  {
   "cell_type": "code",
   "execution_count": 260,
   "id": "8478894f",
   "metadata": {
    "id": "8478894f",
    "outputId": "50f76024-6f91-471d-b6d1-1361a1e4fbf9"
   },
   "outputs": [
    {
     "data": {
      "text/plain": [
       "'D-A-T-A- -S-C-I-E-N-C-E'"
      ]
     },
     "execution_count": 260,
     "metadata": {},
     "output_type": "execute_result"
    }
   ],
   "source": [
    "\"-\".join(my_list)"
   ]
  },
  {
   "cell_type": "code",
   "execution_count": 261,
   "id": "33c78226",
   "metadata": {
    "id": "33c78226",
    "outputId": "73cd31b9-83c3-4606-b347-5686ac109397"
   },
   "outputs": [
    {
     "data": {
      "text/plain": [
       "'25/09/2022'"
      ]
     },
     "execution_count": 261,
     "metadata": {},
     "output_type": "execute_result"
    }
   ],
   "source": [
    "date = [\"25\",\"09\",\"2022\"]\n",
    "\"/\".join(date)"
   ]
  },
  {
   "cell_type": "code",
   "execution_count": 262,
   "id": "365552dd",
   "metadata": {
    "id": "365552dd",
    "outputId": "3c37bab2-6c18-408f-dd11-3565b2d0b0dc"
   },
   "outputs": [
    {
     "data": {
      "text/plain": [
       "2"
      ]
     },
     "execution_count": 262,
     "metadata": {},
     "output_type": "execute_result"
    }
   ],
   "source": [
    "my_list.count(\"A\")"
   ]
  },
  {
   "cell_type": "code",
   "execution_count": 263,
   "id": "6cc4405c",
   "metadata": {
    "id": "6cc4405c"
   },
   "outputs": [],
   "source": [
    "viki = \"Albert Einstein (Almanca telaffuz Tüm zamanların en iyi fizikçilerinden kabul edilen Einstein, en çok görelilik teorisini geliştirmesiyle tanınır.\""
   ]
  },
  {
   "cell_type": "code",
   "execution_count": 264,
   "id": "5a657650",
   "metadata": {
    "id": "5a657650",
    "outputId": "b05bff26-09e4-4fea-da57-66b8b2c02c3c"
   },
   "outputs": [
    {
     "data": {
      "text/plain": [
       "146"
      ]
     },
     "execution_count": 264,
     "metadata": {},
     "output_type": "execute_result"
    }
   ],
   "source": [
    "len(viki)"
   ]
  },
  {
   "cell_type": "code",
   "execution_count": 265,
   "id": "5db9ceaf",
   "metadata": {
    "id": "5db9ceaf"
   },
   "outputs": [],
   "source": [
    "viki_list = viki.split()"
   ]
  },
  {
   "cell_type": "code",
   "execution_count": 266,
   "id": "da695288",
   "metadata": {
    "id": "da695288",
    "outputId": "2cd725b0-ab90-4a9f-ab3d-7e43ad05f092"
   },
   "outputs": [
    {
     "data": {
      "text/plain": [
       "['Albert',\n",
       " 'Einstein',\n",
       " '(Almanca',\n",
       " 'telaffuz',\n",
       " 'Tüm',\n",
       " 'zamanların',\n",
       " 'en',\n",
       " 'iyi',\n",
       " 'fizikçilerinden',\n",
       " 'kabul',\n",
       " 'edilen',\n",
       " 'Einstein,',\n",
       " 'en',\n",
       " 'çok',\n",
       " 'görelilik',\n",
       " 'teorisini',\n",
       " 'geliştirmesiyle',\n",
       " 'tanınır.']"
      ]
     },
     "execution_count": 266,
     "metadata": {},
     "output_type": "execute_result"
    }
   ],
   "source": [
    "viki_list"
   ]
  },
  {
   "cell_type": "code",
   "execution_count": 267,
   "id": "50716095",
   "metadata": {
    "id": "50716095",
    "outputId": "c08c4e3d-2102-46ed-9e22-0f4ff0f3b5a6"
   },
   "outputs": [
    {
     "name": "stdout",
     "output_type": "stream",
     "text": [
      "Albert , uzunlugu  6\n",
      "Einstein , uzunlugu  8\n",
      "(Almanca , uzunlugu  8\n",
      "telaffuz , uzunlugu  8\n",
      "Tüm , uzunlugu  3\n",
      "zamanların , uzunlugu  10\n",
      "en , uzunlugu  2\n",
      "iyi , uzunlugu  3\n",
      "fizikçilerinden , uzunlugu  15\n",
      "kabul , uzunlugu  5\n",
      "edilen , uzunlugu  6\n",
      "Einstein, , uzunlugu  9\n",
      "en , uzunlugu  2\n",
      "çok , uzunlugu  3\n",
      "görelilik , uzunlugu  9\n",
      "teorisini , uzunlugu  9\n",
      "geliştirmesiyle , uzunlugu  15\n",
      "tanınır. , uzunlugu  8\n"
     ]
    }
   ],
   "source": [
    "for u in viki_list:\n",
    "    print(u, \", uzunlugu \", len(u))"
   ]
  },
  {
   "cell_type": "code",
   "execution_count": 268,
   "id": "3ffd28f0",
   "metadata": {
    "id": "3ffd28f0",
    "outputId": "1c6d4c8e-a210-446b-863d-ef406345b764"
   },
   "outputs": [
    {
     "data": {
      "text/plain": [
       "['Albert',\n",
       " 'Einstein',\n",
       " '(Almanca',\n",
       " 'telaffuz',\n",
       " 'Tüm',\n",
       " 'zamanların',\n",
       " 'en',\n",
       " 'iyi',\n",
       " 'fizikçilerinden',\n",
       " 'kabul',\n",
       " 'edilen',\n",
       " 'Einstein,',\n",
       " 'en',\n",
       " 'çok',\n",
       " 'görelilik',\n",
       " 'teorisini',\n",
       " 'geliştirmesiyle',\n",
       " 'tanınır.']"
      ]
     },
     "execution_count": 268,
     "metadata": {},
     "output_type": "execute_result"
    }
   ],
   "source": [
    "viki_list"
   ]
  },
  {
   "cell_type": "code",
   "execution_count": 269,
   "id": "bec49867",
   "metadata": {
    "id": "bec49867",
    "outputId": "4a02669b-1576-453c-9583-e8d8f39eba9f"
   },
   "outputs": [
    {
     "name": "stdout",
     "output_type": "stream",
     "text": [
      "ALBERT : 6\n",
      "EINSTEIN : 8\n",
      "(ALMANCA : 8\n",
      "TELAFFUZ : 8\n",
      "TÜM : 3\n",
      "ZAMANLARIN : 10\n",
      "EN : 2\n",
      "IYI : 3\n",
      "FIZIKÇILERINDEN : 15\n",
      "KABUL : 5\n",
      "EDILEN : 6\n",
      "EINSTEIN, : 9\n",
      "EN : 2\n",
      "ÇOK : 3\n",
      "GÖRELILIK : 9\n",
      "TEORISINI : 9\n",
      "GELIŞTIRMESIYLE : 15\n",
      "TANINIR. : 8\n"
     ]
    }
   ],
   "source": [
    "for u in viki_list:\n",
    "    print(u.upper(),\":\",len(u))"
   ]
  },
  {
   "cell_type": "code",
   "execution_count": 270,
   "id": "4f26fc26",
   "metadata": {
    "id": "4f26fc26",
    "outputId": "2fbfca0c-0543-42a6-ea4f-7cd438bed9c3"
   },
   "outputs": [
    {
     "data": {
      "text/plain": [
       "'Albert'"
      ]
     },
     "execution_count": 270,
     "metadata": {},
     "output_type": "execute_result"
    }
   ],
   "source": [
    "viki_list[0]"
   ]
  },
  {
   "cell_type": "code",
   "execution_count": 271,
   "id": "8c4ecff8",
   "metadata": {
    "id": "8c4ecff8",
    "outputId": "78b5639c-5ee1-4eda-b9fd-6e56f6603443"
   },
   "outputs": [
    {
     "data": {
      "text/plain": [
       "1"
      ]
     },
     "execution_count": 271,
     "metadata": {},
     "output_type": "execute_result"
    }
   ],
   "source": [
    "viki_list[0].count(\"e\")"
   ]
  },
  {
   "cell_type": "code",
   "execution_count": 272,
   "id": "3e8d2341",
   "metadata": {
    "id": "3e8d2341",
    "outputId": "38b8fecc-7668-43f8-9c1d-9afbee59ba27"
   },
   "outputs": [
    {
     "data": {
      "text/plain": [
       "15"
      ]
     },
     "execution_count": 272,
     "metadata": {},
     "output_type": "execute_result"
    }
   ],
   "source": [
    "viki.count(\"e\")"
   ]
  },
  {
   "cell_type": "markdown",
   "id": "cbe64e0e",
   "metadata": {
    "id": "cbe64e0e"
   },
   "source": [
    "## SECTION : FOR"
   ]
  },
  {
   "cell_type": "code",
   "execution_count": 273,
   "id": "6edc816b",
   "metadata": {
    "id": "6edc816b"
   },
   "outputs": [],
   "source": [
    "# ben bir n'im.. listede gezerim. Her turda bir sayiyi tasirim"
   ]
  },
  {
   "cell_type": "code",
   "execution_count": 274,
   "id": "653bfe62",
   "metadata": {
    "id": "653bfe62",
    "outputId": "61b5e422-fce2-48a9-9825-fe52e907422d"
   },
   "outputs": [
    {
     "name": "stdout",
     "output_type": "stream",
     "text": [
      "veri: 3\n",
      "karesi : 9\n",
      "...\n",
      "veri: 4\n",
      "karesi : 16\n",
      "...\n",
      "veri: 40\n",
      "karesi : 1600\n",
      "...\n"
     ]
    }
   ],
   "source": [
    "for num in [3,4,40]:\n",
    "    print(\"veri:\",num)\n",
    "    a = num*num\n",
    "    print(\"karesi :\",a)\n",
    "    print(\"...\")"
   ]
  },
  {
   "cell_type": "code",
   "execution_count": 275,
   "id": "ce976c60",
   "metadata": {
    "id": "ce976c60",
    "outputId": "bd0ce3e0-83fc-44b0-b38f-900cb33f187c"
   },
   "outputs": [
    {
     "name": "stdout",
     "output_type": "stream",
     "text": [
      "veri: 3\n",
      "karesi : 9\n",
      "veri: 4\n",
      "karesi : 16\n",
      "veri: 40\n",
      "karesi : 1600\n",
      "...\n"
     ]
    }
   ],
   "source": [
    "for num in [3,4,40]:\n",
    "    print(\"veri:\",num)\n",
    "    a = num*num\n",
    "    print(\"karesi :\",a)\n",
    "print(\"...\")"
   ]
  },
  {
   "cell_type": "code",
   "execution_count": 276,
   "id": "334c1552",
   "metadata": {
    "id": "334c1552",
    "outputId": "b669ca27-2d9d-46ab-f71f-db73fe3b1e77",
    "scrolled": true
   },
   "outputs": [
    {
     "name": "stdout",
     "output_type": "stream",
     "text": [
      "3\n",
      "4\n",
      "40\n"
     ]
    }
   ],
   "source": [
    "for u in [3,4,40]:\n",
    "    print(u)"
   ]
  },
  {
   "cell_type": "code",
   "execution_count": 277,
   "id": "612e562a",
   "metadata": {
    "id": "612e562a",
    "outputId": "fcb4b640-e425-457d-ffe3-62e9ed30c125"
   },
   "outputs": [
    {
     "name": "stdout",
     "output_type": "stream",
     "text": [
      "9\n",
      "16\n",
      "1600\n"
     ]
    }
   ],
   "source": [
    "for a in [3,4,40]:\n",
    "    print(a*a)"
   ]
  },
  {
   "cell_type": "code",
   "execution_count": 278,
   "id": "214349da",
   "metadata": {
    "id": "214349da",
    "outputId": "d6559755-3535-4378-811e-4ecc0706ceac"
   },
   "outputs": [
    {
     "name": "stdout",
     "output_type": "stream",
     "text": [
      "3\n",
      "9\n",
      "----\n",
      "4\n",
      "16\n",
      "----\n",
      "40\n",
      "1600\n",
      "----\n"
     ]
    }
   ],
   "source": [
    "for u in [3,4,40]:\n",
    "    print(u)\n",
    "    a = u*u\n",
    "    print(a)\n",
    "    print(\"----\")"
   ]
  },
  {
   "cell_type": "code",
   "execution_count": 279,
   "id": "8313554a",
   "metadata": {
    "id": "8313554a",
    "outputId": "72cb359f-ea7f-4d8f-e3ad-b9037346ab24"
   },
   "outputs": [
    {
     "name": "stdout",
     "output_type": "stream",
     "text": [
      "4\n",
      "5\n",
      "41\n",
      "15\n"
     ]
    }
   ],
   "source": [
    "for a in [3,4,40,14]:\n",
    "    a = a+1\n",
    "    print(a)"
   ]
  },
  {
   "cell_type": "code",
   "execution_count": 280,
   "id": "bcf928de",
   "metadata": {
    "id": "bcf928de",
    "outputId": "5d2246b2-e226-45be-99e0-cef8a06e1c57"
   },
   "outputs": [
    {
     "name": "stdout",
     "output_type": "stream",
     "text": [
      "AGE_cat\n",
      "GENDER_cat\n",
      "INCOME_cat\n",
      "CITY_cat\n"
     ]
    }
   ],
   "source": [
    "for u in [\"Age\",\"Gender\",\"Income\",\"City\"]:\n",
    "    a = u.upper() + \"_cat\"\n",
    "    print(a)"
   ]
  },
  {
   "cell_type": "code",
   "execution_count": 281,
   "id": "f16451e7",
   "metadata": {
    "id": "f16451e7",
    "outputId": "fd7df6dd-348f-45c8-f996-285075b720ed"
   },
   "outputs": [
    {
     "data": {
      "text/plain": [
       "'CITY_cat'"
      ]
     },
     "execution_count": 281,
     "metadata": {},
     "output_type": "execute_result"
    }
   ],
   "source": [
    "a"
   ]
  },
  {
   "cell_type": "code",
   "execution_count": 282,
   "id": "f3ef0c7e",
   "metadata": {
    "id": "f3ef0c7e",
    "outputId": "fb2b5540-3658-44d2-e192-0de40f4aa6c0"
   },
   "outputs": [
    {
     "name": "stdout",
     "output_type": "stream",
     "text": [
      "0\n",
      "3\n",
      "7\n"
     ]
    }
   ],
   "source": [
    "a=0\n",
    "\n",
    "for d in [3,4,40]:\n",
    "    print(a)\n",
    "    a = a + d\n"
   ]
  },
  {
   "cell_type": "code",
   "execution_count": 283,
   "id": "ee48f9e0",
   "metadata": {
    "id": "ee48f9e0",
    "outputId": "c72b7864-6550-4f15-b5ea-3f1bedbd4ed1"
   },
   "outputs": [
    {
     "name": "stdout",
     "output_type": "stream",
     "text": [
      "47\n"
     ]
    }
   ],
   "source": [
    "a=0\n",
    "\n",
    "for d in [3,4,40]:\n",
    "  a = a + d\n",
    "\n",
    "print(a)"
   ]
  },
  {
   "cell_type": "code",
   "execution_count": 284,
   "id": "e0a7d5f1",
   "metadata": {
    "id": "e0a7d5f1",
    "outputId": "56a3fdc6-1330-45df-cade-042e5664dec6"
   },
   "outputs": [
    {
     "data": {
      "text/plain": [
       "range(0, 10)"
      ]
     },
     "execution_count": 284,
     "metadata": {},
     "output_type": "execute_result"
    }
   ],
   "source": [
    "range(0, 10)"
   ]
  },
  {
   "cell_type": "code",
   "execution_count": 285,
   "id": "ae153e96",
   "metadata": {
    "id": "ae153e96",
    "outputId": "fc967f74-4f81-403d-e3b5-7d80dd0f2b8c"
   },
   "outputs": [
    {
     "name": "stdout",
     "output_type": "stream",
     "text": [
      "0\n",
      "100\n",
      "400\n",
      "900\n",
      "1600\n",
      "2500\n",
      "3600\n",
      "4900\n",
      "6400\n",
      "8100\n"
     ]
    }
   ],
   "source": [
    "for u in range(0, 100,10):\n",
    "    print(u*u)"
   ]
  },
  {
   "cell_type": "code",
   "execution_count": 286,
   "id": "74e86185",
   "metadata": {
    "id": "74e86185",
    "outputId": "80843cfe-2a1c-4679-da39-b089db80061f"
   },
   "outputs": [
    {
     "name": "stdout",
     "output_type": "stream",
     "text": [
      "miuulmiuul\n",
      "miuulmiuulmiuulmiuul\n",
      "miuulmiuulmiuulmiuulmiuulmiuulmiuulmiuul\n"
     ]
    }
   ],
   "source": [
    "a = \"miuul\"\n",
    "for u in range(0, 3):\n",
    "    a=a+a\n",
    "    print(a)"
   ]
  },
  {
   "cell_type": "code",
   "execution_count": 287,
   "id": "7690aa66",
   "metadata": {
    "id": "7690aa66",
    "outputId": "121f42d8-24be-4eae-9f32-4bc941b048dd"
   },
   "outputs": [
    {
     "name": "stdout",
     "output_type": "stream",
     "text": [
      "0\n",
      "2\n",
      "4\n",
      "6\n",
      "8\n"
     ]
    }
   ],
   "source": [
    "x = range(0, 10,2)\n",
    "\n",
    "for n in x:\n",
    "  print(n)"
   ]
  },
  {
   "cell_type": "code",
   "execution_count": 288,
   "id": "21da169b",
   "metadata": {
    "id": "21da169b",
    "outputId": "99b44704-88d6-4e15-a3c1-b02f3de94ada"
   },
   "outputs": [
    {
     "name": "stdout",
     "output_type": "stream",
     "text": [
      "su anda a: 0\n",
      "su anda n: 0\n",
      "---------\n",
      "su anda a: 3\n",
      "su anda a: 3\n",
      "su anda n: 2\n",
      "---------\n",
      "su anda a: 5\n",
      "su anda a: 5\n",
      "su anda n: 4\n",
      "---------\n",
      "su anda a: 7\n",
      "su anda a: 7\n",
      "su anda n: 6\n",
      "---------\n",
      "su anda a: 9\n",
      "su anda a: 9\n",
      "su anda n: 8\n",
      "---------\n",
      "su anda a: 11\n"
     ]
    }
   ],
   "source": [
    "x = range(0, 10,2)\n",
    "a=0\n",
    "for n in x:\n",
    "  print(\"su anda a:\", a)\n",
    "  print(\"su anda n:\", n)\n",
    "  print(\"---------\")\n",
    "  a =n+3\n",
    "  print(\"su anda a:\", a)\n"
   ]
  },
  {
   "cell_type": "code",
   "execution_count": 289,
   "id": "ea74caa2",
   "metadata": {
    "id": "ea74caa2",
    "outputId": "94d3b6e0-d1f1-47b0-f802-69337649a386"
   },
   "outputs": [
    {
     "name": "stdout",
     "output_type": "stream",
     "text": [
      "0\n",
      "2\n",
      "4\n",
      "6\n",
      "8\n"
     ]
    }
   ],
   "source": [
    "x = range(0, 10,2)\n",
    "\n",
    "for n in x:\n",
    "  print(n)"
   ]
  },
  {
   "cell_type": "code",
   "execution_count": 290,
   "id": "14b90e2a",
   "metadata": {
    "id": "14b90e2a",
    "outputId": "70954176-d079-4cd7-c943-ab0ecbef6ad2"
   },
   "outputs": [
    {
     "name": "stdout",
     "output_type": "stream",
     "text": [
      "0\n",
      "5\n",
      "10\n"
     ]
    }
   ],
   "source": [
    "for u in range(0, 15,5):\n",
    "    print(u)"
   ]
  },
  {
   "cell_type": "code",
   "execution_count": 291,
   "id": "d42aa39c",
   "metadata": {
    "id": "d42aa39c",
    "outputId": "486e21e3-1377-4baf-f845-38b444060863"
   },
   "outputs": [
    {
     "data": {
      "text/plain": [
       "[100]"
      ]
     },
     "execution_count": 291,
     "metadata": {},
     "output_type": "execute_result"
    }
   ],
   "source": [
    "listem = [100]\n",
    "listem"
   ]
  },
  {
   "cell_type": "code",
   "execution_count": 292,
   "id": "560bee9f",
   "metadata": {
    "id": "560bee9f"
   },
   "outputs": [],
   "source": [
    "listem.insert(1,200)"
   ]
  },
  {
   "cell_type": "code",
   "execution_count": 293,
   "id": "1595dc5e",
   "metadata": {
    "id": "1595dc5e",
    "outputId": "1e686794-b8e5-469a-e23c-bb521e8bdc54"
   },
   "outputs": [
    {
     "data": {
      "text/plain": [
       "[100, 200]"
      ]
     },
     "execution_count": 293,
     "metadata": {},
     "output_type": "execute_result"
    }
   ],
   "source": [
    "listem"
   ]
  },
  {
   "cell_type": "code",
   "execution_count": null,
   "id": "5105ff66",
   "metadata": {
    "id": "5105ff66",
    "outputId": "e29b4dc2-7956-495c-d1ae-9024ccd5639a"
   },
   "outputs": [
    {
     "name": "stdout",
     "output_type": "stream",
     "text": [
      "[100, 100]\n",
      "[100, 105, 100]\n",
      "[100, 110, 105, 100]\n",
      "[100, 115, 110, 105, 100]\n",
      "[100, 120, 115, 110, 105, 100]\n",
      "[100, 125, 120, 115, 110, 105, 100]\n",
      "[100, 130, 125, 120, 115, 110, 105, 100]\n",
      "[100, 135, 130, 125, 120, 115, 110, 105, 100]\n",
      "[100, 140, 135, 130, 125, 120, 115, 110, 105, 100]\n",
      "[100, 145, 140, 135, 130, 125, 120, 115, 110, 105, 100]\n",
      "[100, 150, 145, 140, 135, 130, 125, 120, 115, 110, 105, 100]\n",
      "[100, 155, 150, 145, 140, 135, 130, 125, 120, 115, 110, 105, 100]\n",
      "[100, 160, 155, 150, 145, 140, 135, 130, 125, 120, 115, 110, 105, 100]\n",
      "[100, 165, 160, 155, 150, 145, 140, 135, 130, 125, 120, 115, 110, 105, 100]\n",
      "[100, 170, 165, 160, 155, 150, 145, 140, 135, 130, 125, 120, 115, 110, 105, 100]\n",
      "[100, 175, 170, 165, 160, 155, 150, 145, 140, 135, 130, 125, 120, 115, 110, 105, 100]\n",
      "[100, 180, 175, 170, 165, 160, 155, 150, 145, 140, 135, 130, 125, 120, 115, 110, 105, 100]\n",
      "[100, 185, 180, 175, 170, 165, 160, 155, 150, 145, 140, 135, 130, 125, 120, 115, 110, 105, 100]\n",
      "[100, 190, 185, 180, 175, 170, 165, 160, 155, 150, 145, 140, 135, 130, 125, 120, 115, 110, 105, 100]\n",
      "[100, 195, 190, 185, 180, 175, 170, 165, 160, 155, 150, 145, 140, 135, 130, 125, 120, 115, 110, 105, 100]\n"
     ]
    }
   ],
   "source": [
    "listem = [100]\n",
    "\n",
    "\n",
    "for u in range(0, 100,5):\n",
    "    listem.insert(1,listem[0]+u)\n",
    "    print(listem)"
   ]
  },
  {
   "cell_type": "markdown",
   "id": "9042c9a6",
   "metadata": {
    "id": "9042c9a6"
   },
   "source": [
    "## SECTION : DATA MANUPLATION - NUMPY"
   ]
  },
  {
   "cell_type": "code",
   "execution_count": 294,
   "id": "4905dd11",
   "metadata": {
    "id": "4905dd11"
   },
   "outputs": [],
   "source": [
    "#liste>>array>>data frame"
   ]
  },
  {
   "cell_type": "code",
   "execution_count": 295,
   "id": "ce34ea0e",
   "metadata": {
    "id": "ce34ea0e",
    "outputId": "155595c2-aa13-432c-bcbd-cadad8956d45"
   },
   "outputs": [
    {
     "data": {
      "text/plain": [
       "[10, 20, 30, 40, 22, 23, 24, 25]"
      ]
     },
     "execution_count": 295,
     "metadata": {},
     "output_type": "execute_result"
    }
   ],
   "source": [
    "a = [10,20,30,40]\n",
    "b = [22,23,24,25]\n",
    "\n",
    "#topla = [32,43,54,65]\n",
    "a+b"
   ]
  },
  {
   "cell_type": "code",
   "execution_count": 296,
   "id": "aa616f20",
   "metadata": {
    "id": "aa616f20",
    "outputId": "38e0eb15-a4e5-4163-c363-62c345458362"
   },
   "outputs": [
    {
     "data": {
      "text/plain": [
       "4"
      ]
     },
     "execution_count": 296,
     "metadata": {},
     "output_type": "execute_result"
    }
   ],
   "source": [
    "len(a)"
   ]
  },
  {
   "cell_type": "code",
   "execution_count": 297,
   "id": "e309055d",
   "metadata": {
    "id": "e309055d",
    "outputId": "66bb541b-0847-4a46-b124-2871158520fe"
   },
   "outputs": [
    {
     "data": {
      "text/plain": [
       "22"
      ]
     },
     "execution_count": 297,
     "metadata": {},
     "output_type": "execute_result"
    }
   ],
   "source": [
    "b[0]"
   ]
  },
  {
   "cell_type": "code",
   "execution_count": 298,
   "id": "cef5a882",
   "metadata": {
    "id": "cef5a882",
    "outputId": "2c20050c-73e4-4d23-88c6-9c388d8e17d0"
   },
   "outputs": [
    {
     "data": {
      "text/plain": [
       "[32, 43, 54, 65]"
      ]
     },
     "execution_count": 298,
     "metadata": {},
     "output_type": "execute_result"
    }
   ],
   "source": [
    "topla =[]\n",
    "topla.append(a[0]+b[0])\n",
    "topla.append(a[1]+b[1])\n",
    "topla.append(a[2]+b[2])\n",
    "topla.append(a[3]+b[3])\n",
    "topla"
   ]
  },
  {
   "cell_type": "code",
   "execution_count": 299,
   "id": "7b95a94a",
   "metadata": {
    "id": "7b95a94a",
    "outputId": "6259f1f2-3621-4411-becd-8eb5c9adf4e3"
   },
   "outputs": [
    {
     "data": {
      "text/plain": [
       "[32, 43, 54, 65]"
      ]
     },
     "execution_count": 299,
     "metadata": {},
     "output_type": "execute_result"
    }
   ],
   "source": [
    "topla = []\n",
    "\n",
    "for u in range(0,len(a)):\n",
    "    topla.append(a[u]+b[u])\n",
    "\n",
    "topla"
   ]
  },
  {
   "cell_type": "code",
   "execution_count": 300,
   "id": "10b88bb5",
   "metadata": {
    "id": "10b88bb5",
    "outputId": "44202699-8a64-44e4-b1dd-6758d4ebb59f"
   },
   "outputs": [
    {
     "data": {
      "text/plain": [
       "[10, 20, 30, 40, 22, 23, 24, 25]"
      ]
     },
     "execution_count": 300,
     "metadata": {},
     "output_type": "execute_result"
    }
   ],
   "source": [
    "a+b"
   ]
  },
  {
   "cell_type": "code",
   "execution_count": 301,
   "id": "9e1eb133",
   "metadata": {
    "id": "9e1eb133"
   },
   "outputs": [],
   "source": [
    "# Kapsayici, sirali, degistitilebilir"
   ]
  },
  {
   "cell_type": "code",
   "execution_count": 302,
   "id": "4b2b51bd",
   "metadata": {
    "id": "4b2b51bd"
   },
   "outputs": [],
   "source": [
    "a = [10,20,30,\"ah\"]\n",
    "b = [22,23,24,25]"
   ]
  },
  {
   "cell_type": "code",
   "execution_count": 303,
   "id": "9b2616b3",
   "metadata": {
    "id": "9b2616b3",
    "outputId": "9f4c4fa0-62f8-4d5d-b5ee-caa22de8af79"
   },
   "outputs": [
    {
     "data": {
      "text/plain": [
       "[10, 20, 30, 'ah', 22, 23, 24, 25]"
      ]
     },
     "execution_count": 303,
     "metadata": {},
     "output_type": "execute_result"
    }
   ],
   "source": [
    "a+b"
   ]
  },
  {
   "cell_type": "code",
   "execution_count": 304,
   "id": "d734e399",
   "metadata": {
    "id": "d734e399"
   },
   "outputs": [],
   "source": [
    "# Numerical Python..... Numpy"
   ]
  },
  {
   "cell_type": "code",
   "execution_count": 305,
   "id": "d14ce43b",
   "metadata": {
    "id": "d14ce43b"
   },
   "outputs": [],
   "source": [
    "# beni ekleyin...(import)\n",
    "# kurallarim var uyun"
   ]
  },
  {
   "cell_type": "code",
   "execution_count": 306,
   "id": "4b6774ab",
   "metadata": {
    "id": "4b6774ab"
   },
   "outputs": [],
   "source": [
    "#Kutuphane Yukleme\n",
    "import numpy as np"
   ]
  },
  {
   "cell_type": "code",
   "execution_count": 307,
   "id": "a15c4390",
   "metadata": {
    "id": "a15c4390"
   },
   "outputs": [],
   "source": [
    "arrayim = np.array([10,20,30,40])"
   ]
  },
  {
   "cell_type": "code",
   "execution_count": 308,
   "id": "100388b8",
   "metadata": {
    "id": "100388b8",
    "outputId": "be81270a-9db6-4436-ec03-2eae954fa8e5"
   },
   "outputs": [
    {
     "data": {
      "text/plain": [
       "array([10, 20, 30, 40])"
      ]
     },
     "execution_count": 308,
     "metadata": {},
     "output_type": "execute_result"
    }
   ],
   "source": [
    "arrayim"
   ]
  },
  {
   "cell_type": "code",
   "execution_count": 309,
   "id": "c96e2271",
   "metadata": {
    "id": "c96e2271"
   },
   "outputs": [],
   "source": [
    "a = np.array([10,20,30,40])\n",
    "b = np.array([22,23,24,25])"
   ]
  },
  {
   "cell_type": "code",
   "execution_count": 310,
   "id": "0a9af74e",
   "metadata": {
    "id": "0a9af74e",
    "outputId": "6f5e8a5c-b014-47a2-e0a4-cd7f7a34a1d4"
   },
   "outputs": [
    {
     "data": {
      "text/plain": [
       "array([32, 43, 54, 65])"
      ]
     },
     "execution_count": 310,
     "metadata": {},
     "output_type": "execute_result"
    }
   ],
   "source": [
    "a+b"
   ]
  },
  {
   "cell_type": "code",
   "execution_count": 311,
   "id": "53a26495",
   "metadata": {
    "id": "53a26495",
    "outputId": "ebcf7812-7903-4c2f-ffc4-f7c15bb52283"
   },
   "outputs": [
    {
     "ename": "AttributeError",
     "evalue": "'list' object has no attribute 'sum'",
     "output_type": "error",
     "traceback": [
      "\u001b[0;31m---------------------------------------------------------------------------\u001b[0m",
      "\u001b[0;31mAttributeError\u001b[0m                            Traceback (most recent call last)",
      "Cell \u001b[0;32mIn[311], line 1\u001b[0m\n\u001b[0;32m----> 1\u001b[0m listem\u001b[38;5;241m.\u001b[39msum()\n",
      "\u001b[0;31mAttributeError\u001b[0m: 'list' object has no attribute 'sum'"
     ]
    }
   ],
   "source": [
    "listem.sum()"
   ]
  },
  {
   "cell_type": "code",
   "execution_count": 312,
   "id": "a964982a",
   "metadata": {
    "id": "a964982a",
    "outputId": "3cd51b94-ae62-45ba-a602-2ac3b144cea2"
   },
   "outputs": [
    {
     "data": {
      "text/plain": [
       "94"
      ]
     },
     "execution_count": 312,
     "metadata": {},
     "output_type": "execute_result"
    }
   ],
   "source": [
    "b.sum()"
   ]
  },
  {
   "cell_type": "code",
   "execution_count": 313,
   "id": "a1e3ebfe",
   "metadata": {
    "id": "a1e3ebfe"
   },
   "outputs": [],
   "source": [
    "# For\n",
    "# liste>>array..."
   ]
  },
  {
   "cell_type": "code",
   "execution_count": 314,
   "id": "2976eece",
   "metadata": {
    "id": "2976eece"
   },
   "outputs": [],
   "source": [
    "# Liste & Array"
   ]
  },
  {
   "cell_type": "code",
   "execution_count": 315,
   "id": "d0b79b73",
   "metadata": {
    "id": "d0b79b73"
   },
   "outputs": [],
   "source": [
    "a_liste = [10,20,30,40,4,500,52]\n",
    "b_liste = [22,23,24,25,8,13,-10]"
   ]
  },
  {
   "cell_type": "code",
   "execution_count": 316,
   "id": "d6f18ba0",
   "metadata": {
    "id": "d6f18ba0"
   },
   "outputs": [],
   "source": [
    "a_array = np.array([10,20,30,40,4,500,52])\n",
    "b_array = np.array([22,23,24,25,8,13,-10])"
   ]
  },
  {
   "cell_type": "code",
   "execution_count": 317,
   "id": "63d0bdf2",
   "metadata": {
    "id": "63d0bdf2",
    "outputId": "cca1804a-65ea-4a1a-a461-f8aafb4b41d9"
   },
   "outputs": [
    {
     "data": {
      "text/plain": [
       "[10, 20, 30, 40, 4, 500, 52, 22, 23, 24, 25, 8, 13, -10]"
      ]
     },
     "execution_count": 317,
     "metadata": {},
     "output_type": "execute_result"
    }
   ],
   "source": [
    "a_liste + b_liste"
   ]
  },
  {
   "cell_type": "code",
   "execution_count": 318,
   "id": "16afb120",
   "metadata": {
    "id": "16afb120",
    "outputId": "5ffcd30d-1de8-44a8-b300-3fecfd0fcef0"
   },
   "outputs": [
    {
     "data": {
      "text/plain": [
       "array([ 32,  43,  54,  65,  12, 513,  42])"
      ]
     },
     "execution_count": 318,
     "metadata": {},
     "output_type": "execute_result"
    }
   ],
   "source": [
    "a_array + b_array #!!!!!!!!!!"
   ]
  },
  {
   "cell_type": "code",
   "execution_count": 319,
   "id": "5cccea49",
   "metadata": {
    "id": "5cccea49",
    "outputId": "befeb029-223f-43a8-def5-88b31d1d65d3"
   },
   "outputs": [
    {
     "ename": "TypeError",
     "evalue": "'<' not supported between instances of 'list' and 'int'",
     "output_type": "error",
     "traceback": [
      "\u001b[0;31m---------------------------------------------------------------------------\u001b[0m",
      "\u001b[0;31mTypeError\u001b[0m                                 Traceback (most recent call last)",
      "Cell \u001b[0;32mIn[319], line 1\u001b[0m\n\u001b[0;32m----> 1\u001b[0m a_liste\u001b[38;5;241m<\u001b[39m\u001b[38;5;241m40\u001b[39m\n",
      "\u001b[0;31mTypeError\u001b[0m: '<' not supported between instances of 'list' and 'int'"
     ]
    }
   ],
   "source": [
    "a_liste<40"
   ]
  },
  {
   "cell_type": "code",
   "execution_count": 320,
   "id": "70681ded",
   "metadata": {
    "id": "70681ded",
    "outputId": "8e3c5925-9676-4f6e-fe6d-bf11c7fe4bb6"
   },
   "outputs": [
    {
     "data": {
      "text/plain": [
       "array([ True,  True,  True, False,  True, False, False])"
      ]
     },
     "execution_count": 320,
     "metadata": {},
     "output_type": "execute_result"
    }
   ],
   "source": [
    "a_array<40"
   ]
  },
  {
   "cell_type": "code",
   "execution_count": 321,
   "id": "6f835aa6",
   "metadata": {
    "id": "6f835aa6",
    "outputId": "5a7ffa48-a77f-4b08-8e42-e0ab2b64878f"
   },
   "outputs": [
    {
     "ename": "TypeError",
     "evalue": "'<' not supported between instances of 'list' and 'int'",
     "output_type": "error",
     "traceback": [
      "\u001b[0;31m---------------------------------------------------------------------------\u001b[0m",
      "\u001b[0;31mTypeError\u001b[0m                                 Traceback (most recent call last)",
      "Cell \u001b[0;32mIn[321], line 1\u001b[0m\n\u001b[0;32m----> 1\u001b[0m (a_liste\u001b[38;5;241m<\u001b[39m\u001b[38;5;241m35\u001b[39m) \u001b[38;5;241m|\u001b[39m (a_liste\u001b[38;5;241m>\u001b[39m\u001b[38;5;241m50\u001b[39m)\n",
      "\u001b[0;31mTypeError\u001b[0m: '<' not supported between instances of 'list' and 'int'"
     ]
    }
   ],
   "source": [
    "(a_liste<35) | (a_liste>50)"
   ]
  },
  {
   "cell_type": "code",
   "execution_count": 322,
   "id": "db1d4dd9",
   "metadata": {
    "id": "db1d4dd9",
    "outputId": "d0fccad7-865b-4f61-cb3a-bbf558beaddf"
   },
   "outputs": [
    {
     "data": {
      "text/plain": [
       "array([ True,  True,  True, False,  True,  True,  True])"
      ]
     },
     "execution_count": 322,
     "metadata": {},
     "output_type": "execute_result"
    }
   ],
   "source": [
    "(a_array<35) | (a_array>50)"
   ]
  },
  {
   "cell_type": "code",
   "execution_count": 323,
   "id": "0efd6183",
   "metadata": {
    "id": "0efd6183",
    "outputId": "7cee9da5-75f0-46aa-943d-ae5a39544c17"
   },
   "outputs": [
    {
     "data": {
      "text/plain": [
       "array([ 10,  20,  30,  40,   4, 500,  52])"
      ]
     },
     "execution_count": 323,
     "metadata": {},
     "output_type": "execute_result"
    }
   ],
   "source": [
    "a_array"
   ]
  },
  {
   "cell_type": "code",
   "execution_count": 324,
   "id": "3510aaac",
   "metadata": {
    "id": "3510aaac",
    "outputId": "c50dc4ff-9a0b-41f4-d0fe-8f0eca6ff5a8"
   },
   "outputs": [
    {
     "data": {
      "text/plain": [
       "10"
      ]
     },
     "execution_count": 324,
     "metadata": {},
     "output_type": "execute_result"
    }
   ],
   "source": [
    "a_array[0]"
   ]
  },
  {
   "cell_type": "code",
   "execution_count": 325,
   "id": "fe84fb0a",
   "metadata": {
    "id": "fe84fb0a",
    "outputId": "cc99192d-5ae2-4af4-adda-9b201e61441d"
   },
   "outputs": [
    {
     "data": {
      "text/plain": [
       "array([10, 20, 30])"
      ]
     },
     "execution_count": 325,
     "metadata": {},
     "output_type": "execute_result"
    }
   ],
   "source": [
    "a_array[0:3]"
   ]
  },
  {
   "cell_type": "code",
   "execution_count": 326,
   "id": "45610182",
   "metadata": {
    "id": "45610182",
    "outputId": "1bb660ab-bd34-4269-e7b1-34dd5b7b6488"
   },
   "outputs": [
    {
     "data": {
      "text/plain": [
       "array([ True,  True,  True, False,  True,  True,  True])"
      ]
     },
     "execution_count": 326,
     "metadata": {},
     "output_type": "execute_result"
    }
   ],
   "source": [
    "(a_array<35) | (a_array>50)"
   ]
  },
  {
   "cell_type": "code",
   "execution_count": 327,
   "id": "3e93c537",
   "metadata": {
    "id": "3e93c537",
    "outputId": "e082a452-5aa3-47fd-ebb2-5f6e5177a936"
   },
   "outputs": [
    {
     "data": {
      "text/plain": [
       "array([ 10,  20,  30,   4, 500,  52])"
      ]
     },
     "execution_count": 327,
     "metadata": {},
     "output_type": "execute_result"
    }
   ],
   "source": [
    "a_array[[True,  True,  True, False,  True,  True,  True]]"
   ]
  },
  {
   "cell_type": "code",
   "execution_count": 328,
   "id": "decb527e",
   "metadata": {
    "id": "decb527e",
    "outputId": "5f5d543b-7fb8-4a46-d43c-2e78de5edc17"
   },
   "outputs": [
    {
     "data": {
      "text/plain": [
       "array([ 10,  20,  30,   4, 500,  52])"
      ]
     },
     "execution_count": 328,
     "metadata": {},
     "output_type": "execute_result"
    }
   ],
   "source": [
    "a_array[(a_array<35) | (a_array>50)]"
   ]
  },
  {
   "cell_type": "code",
   "execution_count": 329,
   "id": "5c346034",
   "metadata": {
    "id": "5c346034",
    "outputId": "3f740de3-6fd6-4234-faad-984c32c5c6d7"
   },
   "outputs": [
    {
     "data": {
      "text/plain": [
       "array([10, 20, 30,  4])"
      ]
     },
     "execution_count": 329,
     "metadata": {},
     "output_type": "execute_result"
    }
   ],
   "source": [
    "a_array[(a_array<35)]"
   ]
  },
  {
   "cell_type": "code",
   "execution_count": 330,
   "id": "0d3ab224",
   "metadata": {
    "id": "0d3ab224",
    "outputId": "411c6c71-7f80-483e-e2f3-5a95ee139b36"
   },
   "outputs": [
    {
     "data": {
      "text/plain": [
       "array([500])"
      ]
     },
     "execution_count": 330,
     "metadata": {},
     "output_type": "execute_result"
    }
   ],
   "source": [
    "a_array[(a_array>350)]"
   ]
  },
  {
   "cell_type": "code",
   "execution_count": 331,
   "id": "93030fad",
   "metadata": {
    "id": "93030fad",
    "outputId": "83b18b91-7b5a-4b00-ece8-0c635725b707"
   },
   "outputs": [
    {
     "data": {
      "text/plain": [
       "array(['Albert', 'Einstein', '(Almanca', 'telaffuz', 'Tüm', 'zamanların',\n",
       "       'en', 'iyi', 'fizikçilerinden', 'kabul', 'edilen', 'Einstein,',\n",
       "       'en', 'çok', 'görelilik', 'teorisini', 'geliştirmesiyle',\n",
       "       'tanınır.'], dtype='<U15')"
      ]
     },
     "execution_count": 331,
     "metadata": {},
     "output_type": "execute_result"
    }
   ],
   "source": [
    "np.array(viki.split())"
   ]
  },
  {
   "cell_type": "code",
   "execution_count": 332,
   "id": "cfb0defa",
   "metadata": {
    "id": "cfb0defa",
    "outputId": "2bd0f86b-fc6e-4eca-8ea2-b8eff474bac0"
   },
   "outputs": [
    {
     "data": {
      "text/plain": [
       "array(['Albert', 'Einstein', '(Almanca', 'telaffuz', 'Tüm', 'zamanların',\n",
       "       'en', 'iyi', 'fizikçilerinden', 'kabul', 'edilen', 'Einstein,',\n",
       "       'en', 'çok', 'görelilik', 'teorisini', 'geliştirmesiyle',\n",
       "       'tanınır.'], dtype='<U15')"
      ]
     },
     "execution_count": 332,
     "metadata": {},
     "output_type": "execute_result"
    }
   ],
   "source": [
    "new_array = np.array(viki.split())\n",
    "new_array"
   ]
  },
  {
   "cell_type": "code",
   "execution_count": 333,
   "id": "77e3ebf8",
   "metadata": {
    "id": "77e3ebf8",
    "outputId": "57d7fba0-9614-4250-a790-f75b651d50c6"
   },
   "outputs": [
    {
     "data": {
      "text/plain": [
       "array([ True, False, False, False, False, False, False, False, False,\n",
       "       False, False, False, False, False, False, False, False, False])"
      ]
     },
     "execution_count": 333,
     "metadata": {},
     "output_type": "execute_result"
    }
   ],
   "source": [
    "np.array(viki.split())==\"Albert\""
   ]
  },
  {
   "cell_type": "code",
   "execution_count": 334,
   "id": "56d6bf2e",
   "metadata": {
    "id": "56d6bf2e"
   },
   "outputs": [],
   "source": [
    "sorgu = np.array(viki.split())==\"Albert\""
   ]
  },
  {
   "cell_type": "code",
   "execution_count": 335,
   "id": "067d6dff",
   "metadata": {
    "id": "067d6dff",
    "outputId": "bcd06b39-901b-4a35-fd7b-760911f576b5"
   },
   "outputs": [
    {
     "data": {
      "text/plain": [
       "array(['Albert'], dtype='<U15')"
      ]
     },
     "execution_count": 335,
     "metadata": {},
     "output_type": "execute_result"
    }
   ],
   "source": [
    "new_array[sorgu]"
   ]
  },
  {
   "cell_type": "code",
   "execution_count": 360,
   "id": "d163658e",
   "metadata": {
    "id": "d163658e",
    "outputId": "15955e80-929c-49d0-9943-1a5366de541e"
   },
   "outputs": [
    {
     "data": {
      "text/plain": [
       "array([ 10,  20,  30,  40,   4, 500,  52])"
      ]
     },
     "execution_count": 360,
     "metadata": {},
     "output_type": "execute_result"
    }
   ],
   "source": [
    "a_array"
   ]
  },
  {
   "cell_type": "code",
   "execution_count": 337,
   "id": "c99324a5",
   "metadata": {
    "id": "c99324a5",
    "outputId": "0bca9930-ba46-457b-d181-cba1ab21243d"
   },
   "outputs": [
    {
     "data": {
      "text/plain": [
       "166.5804947299947"
      ]
     },
     "execution_count": 337,
     "metadata": {},
     "output_type": "execute_result"
    }
   ],
   "source": [
    "a_array.std()"
   ]
  },
  {
   "cell_type": "code",
   "execution_count": 338,
   "id": "94bdb5ec",
   "metadata": {
    "id": "94bdb5ec",
    "outputId": "70541989-48e1-424a-dd37-0be1550ba5dd"
   },
   "outputs": [
    {
     "data": {
      "text/plain": [
       "656"
      ]
     },
     "execution_count": 338,
     "metadata": {},
     "output_type": "execute_result"
    }
   ],
   "source": [
    "a_array.sum()"
   ]
  },
  {
   "cell_type": "code",
   "execution_count": 339,
   "id": "905211c8",
   "metadata": {
    "id": "905211c8",
    "outputId": "7402e65d-dabb-4718-98f3-dbd93b33266c"
   },
   "outputs": [
    {
     "data": {
      "text/plain": [
       "500"
      ]
     },
     "execution_count": 339,
     "metadata": {},
     "output_type": "execute_result"
    }
   ],
   "source": [
    "a_array.max()"
   ]
  },
  {
   "cell_type": "markdown",
   "id": "6828d40a",
   "metadata": {
    "id": "6828d40a"
   },
   "source": [
    "# Homework\n",
    "* Bu notebook u bilgileri degistirerek tekrar RUN edin\n",
    "* [1,2,3,4,5,6,7] listesinde dolaşın ve sayilarin karelerinin toplamini veren bir for dongusu yapin\n",
    "* np.abs, np.sum, np.std, np.append, np.around, np.arange,np.shape,np.reshape fonksiyonlari icin birer ornek yapin"
   ]
  },
  {
   "cell_type": "code",
   "execution_count": 390,
   "id": "d81a357f",
   "metadata": {},
   "outputs": [],
   "source": [
    "# Let`s make sum of squares of the list [1,2,3,4,5,6,7] "
   ]
  },
  {
   "cell_type": "code",
   "execution_count": 395,
   "id": "65195341",
   "metadata": {},
   "outputs": [
    {
     "name": "stdout",
     "output_type": "stream",
     "text": [
      "140\n"
     ]
    }
   ],
   "source": [
    "sum = 0 \n",
    "for i in [1,2,3,4,5,6,7]:\n",
    "    sum = i*i + sum\n",
    "    \n",
    "print(sum) "
   ]
  },
  {
   "cell_type": "code",
   "execution_count": 356,
   "id": "7c26c208",
   "metadata": {},
   "outputs": [
    {
     "data": {
      "text/plain": [
       "array([ 10,  20,  30,  40,   4, 500,  52])"
      ]
     },
     "execution_count": 356,
     "metadata": {},
     "output_type": "execute_result"
    }
   ],
   "source": [
    "a_array"
   ]
  },
  {
   "cell_type": "code",
   "execution_count": null,
   "id": "b51e44f7",
   "metadata": {},
   "outputs": [],
   "source": []
  },
  {
   "cell_type": "code",
   "execution_count": 357,
   "id": "48865331",
   "metadata": {},
   "outputs": [],
   "source": [
    "import numpy as np"
   ]
  },
  {
   "cell_type": "code",
   "execution_count": 359,
   "id": "6e534c03",
   "metadata": {},
   "outputs": [
    {
     "data": {
      "text/plain": [
       "array([ 10,  20,  30,  40,   4, 500,  52])"
      ]
     },
     "execution_count": 359,
     "metadata": {},
     "output_type": "execute_result"
    }
   ],
   "source": [
    "np.abs(a_array)"
   ]
  },
  {
   "cell_type": "code",
   "execution_count": 388,
   "id": "0ecc742c",
   "metadata": {},
   "outputs": [
    {
     "data": {
      "text/plain": [
       "656"
      ]
     },
     "execution_count": 388,
     "metadata": {},
     "output_type": "execute_result"
    }
   ],
   "source": [
    "np.sum(a_array)"
   ]
  },
  {
   "cell_type": "code",
   "execution_count": 353,
   "id": "e707607a",
   "metadata": {},
   "outputs": [
    {
     "data": {
      "text/plain": [
       "numpy.ndarray"
      ]
     },
     "execution_count": 353,
     "metadata": {},
     "output_type": "execute_result"
    }
   ],
   "source": [
    "type(a_array)"
   ]
  },
  {
   "cell_type": "code",
   "execution_count": 389,
   "id": "f53258a9",
   "metadata": {},
   "outputs": [
    {
     "data": {
      "text/plain": [
       "166.5804947299947"
      ]
     },
     "execution_count": 389,
     "metadata": {},
     "output_type": "execute_result"
    }
   ],
   "source": [
    "np.std(a_array)"
   ]
  },
  {
   "cell_type": "code",
   "execution_count": 362,
   "id": "988f434b",
   "metadata": {},
   "outputs": [
    {
     "data": {
      "text/plain": [
       "array([ 10. ,  20. ,  30. ,  40. ,   4. , 500. ,  52. ,   3. ,   2.7])"
      ]
     },
     "execution_count": 362,
     "metadata": {},
     "output_type": "execute_result"
    }
   ],
   "source": [
    "np.append(a_array,(3,2.7))"
   ]
  },
  {
   "cell_type": "code",
   "execution_count": 363,
   "id": "0dd873cd",
   "metadata": {},
   "outputs": [
    {
     "data": {
      "text/plain": [
       "array([ 10,  20,  30,  40,   4, 500,  52])"
      ]
     },
     "execution_count": 363,
     "metadata": {},
     "output_type": "execute_result"
    }
   ],
   "source": [
    "np.around(a_array)"
   ]
  },
  {
   "cell_type": "code",
   "execution_count": 384,
   "id": "75e3d7f3",
   "metadata": {},
   "outputs": [
    {
     "data": {
      "text/plain": [
       "array([ 0,  4,  8, 12, 16, 20])"
      ]
     },
     "execution_count": 384,
     "metadata": {},
     "output_type": "execute_result"
    }
   ],
   "source": [
    "y = np.arange(0,21,4)  #last value is not included\n",
    "y"
   ]
  },
  {
   "cell_type": "code",
   "execution_count": 385,
   "id": "1af479b8",
   "metadata": {},
   "outputs": [
    {
     "data": {
      "text/plain": [
       "(6,)"
      ]
     },
     "execution_count": 385,
     "metadata": {},
     "output_type": "execute_result"
    }
   ],
   "source": [
    "np.shape(y)"
   ]
  },
  {
   "cell_type": "code",
   "execution_count": 374,
   "id": "3bdf67d1",
   "metadata": {},
   "outputs": [
    {
     "data": {
      "text/plain": [
       "<function numpy.reshape(a, newshape, order='C')>"
      ]
     },
     "execution_count": 374,
     "metadata": {},
     "output_type": "execute_result"
    }
   ],
   "source": [
    "np.reshape #<function numpy.reshape(a, newshape, order='C')>"
   ]
  },
  {
   "cell_type": "code",
   "execution_count": 386,
   "id": "461e089a",
   "metadata": {},
   "outputs": [
    {
     "data": {
      "text/plain": [
       "array([[ 0,  4],\n",
       "       [ 8, 12],\n",
       "       [16, 20]])"
      ]
     },
     "execution_count": 386,
     "metadata": {},
     "output_type": "execute_result"
    }
   ],
   "source": [
    "np.reshape(y, (3,2))"
   ]
  }
 ],
 "metadata": {
  "colab": {
   "provenance": []
  },
  "kernelspec": {
   "display_name": "Python 3 (ipykernel)",
   "language": "python",
   "name": "python3"
  },
  "language_info": {
   "codemirror_mode": {
    "name": "ipython",
    "version": 3
   },
   "file_extension": ".py",
   "mimetype": "text/x-python",
   "name": "python",
   "nbconvert_exporter": "python",
   "pygments_lexer": "ipython3",
   "version": "3.11.4"
  }
 },
 "nbformat": 4,
 "nbformat_minor": 5
}
